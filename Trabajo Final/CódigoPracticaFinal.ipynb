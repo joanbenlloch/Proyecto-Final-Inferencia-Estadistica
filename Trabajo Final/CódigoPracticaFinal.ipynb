{
 "cells": [
  {
   "cell_type": "markdown",
   "metadata": {},
   "source": [
    "### Trabajo Final Inferéncia Estadística\n",
    "autor: Joan Benlloch\n",
    "\n",
    "profesora: Mar Angulo\n",
    "\n",
    "curso: 2023-2024"
   ]
  },
  {
   "cell_type": "markdown",
   "metadata": {},
   "source": [
    "#### Objetivo\n",
    "En este trabajo relizaremos un análisis de inferéncia estadística acerca del dataset de los pasajeros de titánic. Se dividirá en rtes bloques, el rpimero un estudio de inferencia paramétrica, a continuación usaremos métodos no paramétricos y por último aplicarmeos modelos y series temporales."
   ]
  },
  {
   "cell_type": "markdown",
   "metadata": {},
   "source": [
    "Cabe decir que en este documento de código python no entraremos en profundidad en el análisis y explicación de los resultados, para ello se ha creado un documento en formato pdf que se adjunta en la entrega."
   ]
  },
  {
   "cell_type": "code",
   "execution_count": 2,
   "metadata": {},
   "outputs": [],
   "source": [
    "#Importamos el dataset y librerías para el trabajo\n",
    "\n",
    "import pandas as pd\n",
    "import numpy as np\n",
    "import matplotlib.pyplot as plt\n",
    "import seaborn as sns"
   ]
  },
  {
   "cell_type": "code",
   "execution_count": 3,
   "metadata": {},
   "outputs": [
    {
     "name": "stdout",
     "output_type": "stream",
     "text": [
      "   pclass  survived                                             name     sex  \\\n",
      "0     1.0       1.0                    Allen, Miss. Elisabeth Walton  female   \n",
      "1     1.0       1.0                   Allison, Master. Hudson Trevor    male   \n",
      "2     1.0       0.0                     Allison, Miss. Helen Loraine  female   \n",
      "3     1.0       0.0             Allison, Mr. Hudson Joshua Creighton    male   \n",
      "4     1.0       0.0  Allison, Mrs. Hudson J C (Bessie Waldo Daniels)  female   \n",
      "\n",
      "       age  sibsp  parch  ticket      fare    cabin embarked boat   body  \\\n",
      "0  29.0000    0.0    0.0   24160  211.3375       B5        S    2    NaN   \n",
      "1   0.9167    1.0    2.0  113781  151.5500  C22 C26        S   11    NaN   \n",
      "2   2.0000    1.0    2.0  113781  151.5500  C22 C26        S  NaN    NaN   \n",
      "3  30.0000    1.0    2.0  113781  151.5500  C22 C26        S  NaN  135.0   \n",
      "4  25.0000    1.0    2.0  113781  151.5500  C22 C26        S  NaN    NaN   \n",
      "\n",
      "                         home.dest  \n",
      "0                     St Louis, MO  \n",
      "1  Montreal, PQ / Chesterville, ON  \n",
      "2  Montreal, PQ / Chesterville, ON  \n",
      "3  Montreal, PQ / Chesterville, ON  \n",
      "4  Montreal, PQ / Chesterville, ON  \n"
     ]
    }
   ],
   "source": [
    "datos_titanic = pd.read_csv('./titanic/titanic3.csv')\n",
    "#convertimos el dataset en un dataframe\n",
    "titanic_df = pd.DataFrame(datos_titanic)\n",
    "#mostramos las primeras filas del dataframe\n",
    "print(titanic_df.head())"
   ]
  },
  {
   "cell_type": "code",
   "execution_count": 3,
   "metadata": {},
   "outputs": [
    {
     "data": {
      "text/html": [
       "<div>\n",
       "<style scoped>\n",
       "    .dataframe tbody tr th:only-of-type {\n",
       "        vertical-align: middle;\n",
       "    }\n",
       "\n",
       "    .dataframe tbody tr th {\n",
       "        vertical-align: top;\n",
       "    }\n",
       "\n",
       "    .dataframe thead th {\n",
       "        text-align: right;\n",
       "    }\n",
       "</style>\n",
       "<table border=\"1\" class=\"dataframe\">\n",
       "  <thead>\n",
       "    <tr style=\"text-align: right;\">\n",
       "      <th></th>\n",
       "      <th>pclass</th>\n",
       "      <th>survived</th>\n",
       "      <th>age</th>\n",
       "      <th>sibsp</th>\n",
       "      <th>parch</th>\n",
       "      <th>fare</th>\n",
       "      <th>body</th>\n",
       "    </tr>\n",
       "  </thead>\n",
       "  <tbody>\n",
       "    <tr>\n",
       "      <th>count</th>\n",
       "      <td>1309.000000</td>\n",
       "      <td>1309.000000</td>\n",
       "      <td>1046.000000</td>\n",
       "      <td>1309.000000</td>\n",
       "      <td>1309.000000</td>\n",
       "      <td>1308.000000</td>\n",
       "      <td>121.000000</td>\n",
       "    </tr>\n",
       "    <tr>\n",
       "      <th>mean</th>\n",
       "      <td>2.294882</td>\n",
       "      <td>0.381971</td>\n",
       "      <td>29.881135</td>\n",
       "      <td>0.498854</td>\n",
       "      <td>0.385027</td>\n",
       "      <td>33.295479</td>\n",
       "      <td>160.809917</td>\n",
       "    </tr>\n",
       "    <tr>\n",
       "      <th>std</th>\n",
       "      <td>0.837836</td>\n",
       "      <td>0.486055</td>\n",
       "      <td>14.413500</td>\n",
       "      <td>1.041658</td>\n",
       "      <td>0.865560</td>\n",
       "      <td>51.758668</td>\n",
       "      <td>97.696922</td>\n",
       "    </tr>\n",
       "    <tr>\n",
       "      <th>min</th>\n",
       "      <td>1.000000</td>\n",
       "      <td>0.000000</td>\n",
       "      <td>0.166700</td>\n",
       "      <td>0.000000</td>\n",
       "      <td>0.000000</td>\n",
       "      <td>0.000000</td>\n",
       "      <td>1.000000</td>\n",
       "    </tr>\n",
       "    <tr>\n",
       "      <th>25%</th>\n",
       "      <td>2.000000</td>\n",
       "      <td>0.000000</td>\n",
       "      <td>21.000000</td>\n",
       "      <td>0.000000</td>\n",
       "      <td>0.000000</td>\n",
       "      <td>7.895800</td>\n",
       "      <td>72.000000</td>\n",
       "    </tr>\n",
       "    <tr>\n",
       "      <th>50%</th>\n",
       "      <td>3.000000</td>\n",
       "      <td>0.000000</td>\n",
       "      <td>28.000000</td>\n",
       "      <td>0.000000</td>\n",
       "      <td>0.000000</td>\n",
       "      <td>14.454200</td>\n",
       "      <td>155.000000</td>\n",
       "    </tr>\n",
       "    <tr>\n",
       "      <th>75%</th>\n",
       "      <td>3.000000</td>\n",
       "      <td>1.000000</td>\n",
       "      <td>39.000000</td>\n",
       "      <td>1.000000</td>\n",
       "      <td>0.000000</td>\n",
       "      <td>31.275000</td>\n",
       "      <td>256.000000</td>\n",
       "    </tr>\n",
       "    <tr>\n",
       "      <th>max</th>\n",
       "      <td>3.000000</td>\n",
       "      <td>1.000000</td>\n",
       "      <td>80.000000</td>\n",
       "      <td>8.000000</td>\n",
       "      <td>9.000000</td>\n",
       "      <td>512.329200</td>\n",
       "      <td>328.000000</td>\n",
       "    </tr>\n",
       "  </tbody>\n",
       "</table>\n",
       "</div>"
      ],
      "text/plain": [
       "            pclass     survived          age        sibsp        parch  \\\n",
       "count  1309.000000  1309.000000  1046.000000  1309.000000  1309.000000   \n",
       "mean      2.294882     0.381971    29.881135     0.498854     0.385027   \n",
       "std       0.837836     0.486055    14.413500     1.041658     0.865560   \n",
       "min       1.000000     0.000000     0.166700     0.000000     0.000000   \n",
       "25%       2.000000     0.000000    21.000000     0.000000     0.000000   \n",
       "50%       3.000000     0.000000    28.000000     0.000000     0.000000   \n",
       "75%       3.000000     1.000000    39.000000     1.000000     0.000000   \n",
       "max       3.000000     1.000000    80.000000     8.000000     9.000000   \n",
       "\n",
       "              fare        body  \n",
       "count  1308.000000  121.000000  \n",
       "mean     33.295479  160.809917  \n",
       "std      51.758668   97.696922  \n",
       "min       0.000000    1.000000  \n",
       "25%       7.895800   72.000000  \n",
       "50%      14.454200  155.000000  \n",
       "75%      31.275000  256.000000  \n",
       "max     512.329200  328.000000  "
      ]
     },
     "execution_count": 3,
     "metadata": {},
     "output_type": "execute_result"
    }
   ],
   "source": [
    "titanic_df.describe()"
   ]
  },
  {
   "cell_type": "code",
   "execution_count": 4,
   "metadata": {},
   "outputs": [
    {
     "data": {
      "text/html": [
       "<div>\n",
       "<style scoped>\n",
       "    .dataframe tbody tr th:only-of-type {\n",
       "        vertical-align: middle;\n",
       "    }\n",
       "\n",
       "    .dataframe tbody tr th {\n",
       "        vertical-align: top;\n",
       "    }\n",
       "\n",
       "    .dataframe thead th {\n",
       "        text-align: right;\n",
       "    }\n",
       "</style>\n",
       "<table border=\"1\" class=\"dataframe\">\n",
       "  <thead>\n",
       "    <tr style=\"text-align: right;\">\n",
       "      <th></th>\n",
       "      <th>pclass</th>\n",
       "      <th>survived</th>\n",
       "      <th>name</th>\n",
       "      <th>sex</th>\n",
       "      <th>age</th>\n",
       "      <th>sibsp</th>\n",
       "      <th>parch</th>\n",
       "      <th>ticket</th>\n",
       "      <th>fare</th>\n",
       "      <th>cabin</th>\n",
       "      <th>embarked</th>\n",
       "      <th>boat</th>\n",
       "      <th>body</th>\n",
       "      <th>home.dest</th>\n",
       "    </tr>\n",
       "  </thead>\n",
       "  <tbody>\n",
       "    <tr>\n",
       "      <th>0</th>\n",
       "      <td>1.0</td>\n",
       "      <td>1.0</td>\n",
       "      <td>Allen, Miss. Elisabeth Walton</td>\n",
       "      <td>female</td>\n",
       "      <td>29.0000</td>\n",
       "      <td>0.0</td>\n",
       "      <td>0.0</td>\n",
       "      <td>24160</td>\n",
       "      <td>211.3375</td>\n",
       "      <td>B5</td>\n",
       "      <td>S</td>\n",
       "      <td>2</td>\n",
       "      <td>NaN</td>\n",
       "      <td>St Louis, MO</td>\n",
       "    </tr>\n",
       "    <tr>\n",
       "      <th>1</th>\n",
       "      <td>1.0</td>\n",
       "      <td>1.0</td>\n",
       "      <td>Allison, Master. Hudson Trevor</td>\n",
       "      <td>male</td>\n",
       "      <td>0.9167</td>\n",
       "      <td>1.0</td>\n",
       "      <td>2.0</td>\n",
       "      <td>113781</td>\n",
       "      <td>151.5500</td>\n",
       "      <td>C22 C26</td>\n",
       "      <td>S</td>\n",
       "      <td>11</td>\n",
       "      <td>NaN</td>\n",
       "      <td>Montreal, PQ / Chesterville, ON</td>\n",
       "    </tr>\n",
       "    <tr>\n",
       "      <th>2</th>\n",
       "      <td>1.0</td>\n",
       "      <td>0.0</td>\n",
       "      <td>Allison, Miss. Helen Loraine</td>\n",
       "      <td>female</td>\n",
       "      <td>2.0000</td>\n",
       "      <td>1.0</td>\n",
       "      <td>2.0</td>\n",
       "      <td>113781</td>\n",
       "      <td>151.5500</td>\n",
       "      <td>C22 C26</td>\n",
       "      <td>S</td>\n",
       "      <td>NaN</td>\n",
       "      <td>NaN</td>\n",
       "      <td>Montreal, PQ / Chesterville, ON</td>\n",
       "    </tr>\n",
       "    <tr>\n",
       "      <th>3</th>\n",
       "      <td>1.0</td>\n",
       "      <td>0.0</td>\n",
       "      <td>Allison, Mr. Hudson Joshua Creighton</td>\n",
       "      <td>male</td>\n",
       "      <td>30.0000</td>\n",
       "      <td>1.0</td>\n",
       "      <td>2.0</td>\n",
       "      <td>113781</td>\n",
       "      <td>151.5500</td>\n",
       "      <td>C22 C26</td>\n",
       "      <td>S</td>\n",
       "      <td>NaN</td>\n",
       "      <td>135.0</td>\n",
       "      <td>Montreal, PQ / Chesterville, ON</td>\n",
       "    </tr>\n",
       "    <tr>\n",
       "      <th>4</th>\n",
       "      <td>1.0</td>\n",
       "      <td>0.0</td>\n",
       "      <td>Allison, Mrs. Hudson J C (Bessie Waldo Daniels)</td>\n",
       "      <td>female</td>\n",
       "      <td>25.0000</td>\n",
       "      <td>1.0</td>\n",
       "      <td>2.0</td>\n",
       "      <td>113781</td>\n",
       "      <td>151.5500</td>\n",
       "      <td>C22 C26</td>\n",
       "      <td>S</td>\n",
       "      <td>NaN</td>\n",
       "      <td>NaN</td>\n",
       "      <td>Montreal, PQ / Chesterville, ON</td>\n",
       "    </tr>\n",
       "  </tbody>\n",
       "</table>\n",
       "</div>"
      ],
      "text/plain": [
       "   pclass  survived                                             name     sex  \\\n",
       "0     1.0       1.0                    Allen, Miss. Elisabeth Walton  female   \n",
       "1     1.0       1.0                   Allison, Master. Hudson Trevor    male   \n",
       "2     1.0       0.0                     Allison, Miss. Helen Loraine  female   \n",
       "3     1.0       0.0             Allison, Mr. Hudson Joshua Creighton    male   \n",
       "4     1.0       0.0  Allison, Mrs. Hudson J C (Bessie Waldo Daniels)  female   \n",
       "\n",
       "       age  sibsp  parch  ticket      fare    cabin embarked boat   body  \\\n",
       "0  29.0000    0.0    0.0   24160  211.3375       B5        S    2    NaN   \n",
       "1   0.9167    1.0    2.0  113781  151.5500  C22 C26        S   11    NaN   \n",
       "2   2.0000    1.0    2.0  113781  151.5500  C22 C26        S  NaN    NaN   \n",
       "3  30.0000    1.0    2.0  113781  151.5500  C22 C26        S  NaN  135.0   \n",
       "4  25.0000    1.0    2.0  113781  151.5500  C22 C26        S  NaN    NaN   \n",
       "\n",
       "                         home.dest  \n",
       "0                     St Louis, MO  \n",
       "1  Montreal, PQ / Chesterville, ON  \n",
       "2  Montreal, PQ / Chesterville, ON  \n",
       "3  Montreal, PQ / Chesterville, ON  \n",
       "4  Montreal, PQ / Chesterville, ON  "
      ]
     },
     "execution_count": 4,
     "metadata": {},
     "output_type": "execute_result"
    }
   ],
   "source": [
    "titanic_df.head()"
   ]
  },
  {
   "cell_type": "markdown",
   "metadata": {},
   "source": [
    "### Inferencia Paramétrica"
   ]
  },
  {
   "cell_type": "code",
   "execution_count": null,
   "metadata": {},
   "outputs": [],
   "source": []
  },
  {
   "cell_type": "markdown",
   "metadata": {},
   "source": [
    "### Métodos no paramétricos"
   ]
  },
  {
   "cell_type": "markdown",
   "metadata": {},
   "source": [
    "#### Constrate de Bondad de Ajuste"
   ]
  },
  {
   "cell_type": "markdown",
   "metadata": {},
   "source": [
    "Hecho en R en el otro documento"
   ]
  },
  {
   "cell_type": "markdown",
   "metadata": {},
   "source": [
    "Al estudiar la distribución de la podblación por si sigue una normal no podemos inferir en una población de todos los cruceros o barcos que hacen viajes, pero tal vez si que se puede hablar de los barcos de la misma compañía o de los barcos de la misma época o incluso de viajes a América en 1912, según las características y motivos de los viajeros para viajar en aquella época."
   ]
  },
  {
   "cell_type": "markdown",
   "metadata": {},
   "source": [
    "#### Prueba gráfica\n",
    "\n",
    "Dado que el contraste de bondad de ajuste en R nos ha dicho que no sigue una distribución normal, vamos a realizar un contraste gráfico para ver la forma general de los datos y que nos diría la intuición si tuviésemos que comparar con otra distribución qeu ajuste la nuestra"
   ]
  },
  {
   "cell_type": "code",
   "execution_count": 5,
   "metadata": {},
   "outputs": [],
   "source": [
    "import matplotlib.pyplot as plt\n",
    "from matplotlib import style\n",
    "from scipy import stats\n",
    "import inspect\n",
    "from statsmodels.distributions.empirical_distribution import ECDF"
   ]
  },
  {
   "cell_type": "code",
   "execution_count": 6,
   "metadata": {},
   "outputs": [],
   "source": [
    "#Configuro matplotlib como hemos visto en clase\n",
    "plt.rcParams['savefig.bbox'] = \"tight\"\n",
    "style.use('ggplot') or plt.style.use('ggplot')\n",
    "import warnings\n",
    "warnings.filterwarnings('ignore')\n"
   ]
  },
  {
   "cell_type": "code",
   "execution_count": 7,
   "metadata": {},
   "outputs": [
    {
     "data": {
      "image/png": "[encoded data removed]",
      "text/plain": [
       "<Figure size 1000x400 with 2 Axes>"
      ]
     },
     "metadata": {},
     "output_type": "display_data"
    }
   ],
   "source": [
    "fig, axs = plt.subplots(nrows=1, ncols=2, figsize=(10, 4))\n",
    "\n",
    "# Histograma\n",
    "titanic_df['age'].hist(ax=axs[0], bins=30, color=\"#3182bd\", alpha=0.5)\n",
    "axs[0].set_title('Histograma de edad')\n",
    "axs[0].set_xlabel('Edad')\n",
    "axs[0].set_ylabel('Frecuencia')\n",
    "\n",
    "\n",
    "#Función de Distribución Acumulada\n",
    "\n",
    "ecdf = ECDF(x=titanic_df['age'])\n",
    "axs[1].plot(ecdf.x, ecdf.y, color=\"#3182bd\")\n",
    "axs[1].set_title('Función de distribución empírica')\n",
    "axs[1].set_xlabel('Edad')\n",
    "axs[1].set_ylabel('Frecuencia acumulada')\n",
    "\n",
    "plt.tight_layout()"
   ]
  },
  {
   "cell_type": "markdown",
   "metadata": {},
   "source": [
    "# Ajuste por una distribución Normal\n"
   ]
  },
  {
   "cell_type": "code",
   "execution_count": 8,
   "metadata": {},
   "outputs": [
    {
     "data": {
      "text/plain": [
       "{'loc': 29.8811345124283, 'scale': 14.40660823421771}"
      ]
     },
     "execution_count": 8,
     "metadata": {},
     "output_type": "execute_result"
    }
   ],
   "source": [
    "# Ajuste distribución normal\n",
    "\n",
    "# 1) Definimos la distribución a la que pretendemos comprobar si se ajustan los datos\n",
    "distribucion = stats.norm\n",
    "\n",
    "# 2) Con el método fit() obtenemos los parámetros\n",
    "parametros = distribucion.fit(data=titanic_df['age'].dropna())\n",
    "# 3) Creamos un diccionario que incluya el nombre de cada parámetro\n",
    "nombre_parametros = [p for p in inspect.signature(distribucion._pdf).parameters \\\n",
    "                     if not p=='x'] + [\"loc\",\"scale\"]\n",
    "parametros_dict = dict(zip(nombre_parametros, parametros))\n",
    "parametros_dict"
   ]
  },
  {
   "cell_type": "code",
   "execution_count": 9,
   "metadata": {},
   "outputs": [
    {
     "data": {
      "text/plain": [
       "<matplotlib.legend.Legend at 0x1ce320b6890>"
      ]
     },
     "execution_count": 9,
     "metadata": {},
     "output_type": "execute_result"
    },
    {
     "data": {
      "image/png": "[encoded data removed]",
      "text/plain": [
       "<Figure size 600x400 with 1 Axes>"
      ]
     },
     "metadata": {},
     "output_type": "display_data"
    }
   ],
   "source": [
    "# 4) Gráfico\n",
    "fig, ax = plt.subplots(figsize=(6, 4))\n",
    "titanic_df['age'].hist(ax=ax, bins=30, color=\"#3182bd\", alpha=0.5, density=True)\n",
    "x = np.linspace(titanic_df['age'].min(), titanic_df['age'].max(), 100)\n",
    "y = distribucion.pdf(x, *parametros)\n",
    "ax.plot(x, y, color=\"red\", label=\"Distribución normal\")\n",
    "ax.set_title('Histograma de edad')\n",
    "ax.set_xlabel('Edad')\n",
    "ax.set_ylabel('Densidad')\n",
    "ax.legend()\n"
   ]
  },
  {
   "cell_type": "code",
   "execution_count": 10,
   "metadata": {},
   "outputs": [],
   "source": [
    "# 5) Métricas de bondad del ajuste\n",
    "\n",
    "log_likelihood = distribucion.logpdf(titanic_df['age'].dropna(), *parametros).sum()\n",
    "\n",
    "aic = -2*log_likelihood + 2*len(parametros)\n",
    "bic = -2*log_likelihood + len(parametros)*np.log(len(titanic_df['age'].dropna()))\n"
   ]
  },
  {
   "cell_type": "code",
   "execution_count": 11,
   "metadata": {},
   "outputs": [
    {
     "name": "stdout",
     "output_type": "stream",
     "text": [
      "---------------------\n",
      "Resultados del ajuste\n",
      "---------------------\n",
      "Distribución:   norm\n",
      "Dominio:        [-inf, inf]\n",
      "Parámetros:     {'loc': 29.8811345124283, 'scale': 14.40660823421771}\n",
      "Log likelihood: -4274.610314500958\n",
      "AIC:            8553.220629001917\n",
      "BIC:            8563.126086291166\n"
     ]
    }
   ],
   "source": [
    "#6) Información del ajuste\n",
    "print('---------------------')\n",
    "print('Resultados del ajuste')\n",
    "print('---------------------')\n",
    "print(f\"Distribución:   {distribucion.name}\")\n",
    "print(f\"Dominio:        {[distribucion.a, distribucion.b]}\")\n",
    "print(f\"Parámetros:     {parametros_dict}\")\n",
    "print(f\"Log likelihood: {log_likelihood}\")\n",
    "print(f\"AIC:            {aic}\")\n",
    "print(f\"BIC:            {bic}\")"
   ]
  },
  {
   "cell_type": "markdown",
   "metadata": {},
   "source": [
    "Como podemos ver el log_likelihood muy negativo nos indica que el modelo normal no describe la distribución de nuestras edades. "
   ]
  },
  {
   "cell_type": "markdown",
   "metadata": {},
   "source": [
    "### Ajuste simultáneo de varias distribuciones"
   ]
  },
  {
   "cell_type": "markdown",
   "metadata": {},
   "source": [
    "Seguimos lo hecho en clase para encontrar que distrubución se ajustaría mejor la edad de nuestra muestra del titánic"
   ]
  },
  {
   "cell_type": "code",
   "execution_count": 12,
   "metadata": {},
   "outputs": [],
   "source": [
    "\n",
    "from scipy import stats\n",
    "import pandas as pd\n",
    "import numpy as np\n",
    "import tqdm\n",
    "import inspect\n",
    "import warnings\n",
    "warnings.filterwarnings('ignore')"
   ]
  },
  {
   "cell_type": "code",
   "execution_count": 13,
   "metadata": {},
   "outputs": [],
   "source": [
    "def seleccionar_distribuciones(familia='realall', verbose=True):\n",
    "    distribuciones = [getattr(stats,d) for d in dir(stats) \\\n",
    "                     if isinstance(getattr(stats,d), (stats.rv_continuous, stats.rv_discrete))]\n",
    "    \n",
    "    exclusiones = ['levy_stable', 'vonmises']\n",
    "    distribuciones = [dist for dist in distribuciones if dist.name not in exclusiones]\n",
    "            \n",
    "    dominios = {\n",
    "        'realall' : [-np.inf, np.inf],\n",
    "        'realline': [np.inf,np.inf],\n",
    "        'realplus': [0, np.inf],\n",
    "        'real0to1': [0, 1], \n",
    "        'discreta': [None, None],\n",
    "    }\n",
    "\n",
    "    distribucion = []\n",
    "    tipo = []\n",
    "    dominio_inf = []\n",
    "    dominio_sup = []\n",
    "\n",
    "    for dist in distribuciones:\n",
    "        distribucion.append(dist.name)\n",
    "        tipo.append(np.where(isinstance(dist, stats.rv_continuous), 'continua', 'discreta'))\n",
    "        dominio_inf.append(dist.a)\n",
    "        dominio_sup.append(dist.b)\n",
    "    \n",
    "    info_distribuciones = pd.DataFrame({\n",
    "                            'distribucion': distribucion,\n",
    "                            'tipo': tipo,\n",
    "                            'dominio_inf': dominio_inf,\n",
    "                            'dominio_sup': dominio_sup\n",
    "                          })\n",
    "\n",
    "    info_distribuciones = info_distribuciones \\\n",
    "                          .sort_values(by=['dominio_inf', 'dominio_sup'])\\\n",
    "                          .reset_index(drop=True)\n",
    "    \n",
    "    if familia in ['realall', 'realline', 'realplus', 'real0to1']:\n",
    "        info_distribuciones = info_distribuciones[info_distribuciones['tipo']=='continua']\n",
    "        condicion = (info_distribuciones['dominio_inf'] == dominios[familia][0]) & \\\n",
    "                    (info_distribuciones['dominio_sup'] == dominios[familia][1]) \n",
    "        info_distribuciones = info_distribuciones[condicion].reset_index(drop=True)\n",
    "        \n",
    "    if familia in ['discreta']:\n",
    "        info_distribuciones = info_distribuciones[info_distribuciones['tipo']=='discreta']\n",
    "        \n",
    "    seleccion = [dist for dist in distribuciones \\\n",
    "                 if dist.name in info_distribuciones['distribucion'].values]\n",
    "    \n",
    "    \n",
    "    if verbose:\n",
    "        print(\"---------------------------------------------------\")\n",
    "        print(\"       Distribuciones seleccionadas                \")\n",
    "        print(\"---------------------------------------------------\")\n",
    "        with pd.option_context('display.max_rows', None, 'display.max_columns', None): \n",
    "            print(info_distribuciones)\n",
    "    \n",
    "    return seleccion"
   ]
  },
  {
   "cell_type": "code",
   "execution_count": 14,
   "metadata": {},
   "outputs": [],
   "source": [
    "x = titanic_df['age']\n",
    "# Eliminamos los valores NaN e infinito\n",
    "x.dropna()\n",
    "x = x[~x.isin([np.nan, np.inf, -np.inf])]\n"
   ]
  },
  {
   "cell_type": "code",
   "execution_count": 15,
   "metadata": {},
   "outputs": [],
   "source": [
    "def comparar_distribuciones(x, familia='realall', ordenar='aic', verbose=True):\n",
    "    distribuciones = seleccionar_distribuciones(familia=familia, verbose=verbose)\n",
    "    distribucion_ = []\n",
    "    log_likelihood_= []\n",
    "    aic_ = []\n",
    "    bic_ = []\n",
    "    n_parametros_ = []\n",
    "    parametros_ = []\n",
    "    \n",
    "    for i, distribucion in enumerate(distribuciones):\n",
    "        \n",
    "        print(f\"{i+1}/{len(distribuciones)} Ajustando distribución: {distribucion.name}\")\n",
    "        \n",
    "        try:\n",
    "            parametros = distribucion.fit(data=x)\n",
    "            nombre_parametros = [p for p in inspect.signature(distribucion._pdf).parameters \\\n",
    "                                 if not p=='x'] + [\"loc\",\"scale\"]\n",
    "            parametros_dict = dict(zip(nombre_parametros, parametros))\n",
    "            log_likelihood = distribucion.logpdf(x, *parametros).sum()\n",
    "            aic = -2 * log_likelihood + 2 * len(parametros)\n",
    "            bic = -2 * log_likelihood + np.log(x.shape[0]) * len(parametros)\n",
    "            \n",
    "            distribucion_.append(distribucion.name)\n",
    "            log_likelihood_.append(log_likelihood)\n",
    "            aic_.append(aic)\n",
    "            bic_.append(bic)\n",
    "            n_parametros_.append(len(parametros))\n",
    "            parametros_.append(parametros_dict)\n",
    "            \n",
    "            resultados = pd.DataFrame({\n",
    "                            'distribucion': distribucion_,\n",
    "                            'log_likelihood': log_likelihood_,\n",
    "                            'aic': aic_,\n",
    "                            'bic': bic_,\n",
    "                            'n_parametros': n_parametros_,\n",
    "                            'parametros': parametros_,\n",
    "                \n",
    "                         })\n",
    "            \n",
    "            resultados = resultados.sort_values(by=ordenar).reset_index(drop=True)\n",
    "            \n",
    "        except Exception as e:\n",
    "            print(f\"Error al tratar de ajustar la distribución {distribucion.name}\")\n",
    "            print(e)\n",
    "            print(\"\")\n",
    "            \n",
    "    return resultados"
   ]
  },
  {
   "cell_type": "code",
   "execution_count": 16,
   "metadata": {},
   "outputs": [
    {
     "name": "stdout",
     "output_type": "stream",
     "text": [
      "1/32 Ajustando distribución: cauchy\n",
      "2/32 Ajustando distribución: crystalball\n",
      "3/32 Ajustando distribución: dgamma\n",
      "4/32 Ajustando distribución: dweibull\n",
      "5/32 Ajustando distribución: exponnorm\n",
      "6/32 Ajustando distribución: genextreme\n",
      "7/32 Ajustando distribución: genhyperbolic\n",
      "8/32 Ajustando distribución: genlogistic\n",
      "9/32 Ajustando distribución: gennorm\n",
      "10/32 Ajustando distribución: gumbel_l\n",
      "11/32 Ajustando distribución: gumbel_r\n",
      "12/32 Ajustando distribución: hypsecant\n",
      "13/32 Ajustando distribución: johnsonsu\n",
      "14/32 Ajustando distribución: kappa4\n",
      "15/32 Ajustando distribución: laplace\n",
      "16/32 Ajustando distribución: laplace_asymmetric\n",
      "17/32 Ajustando distribución: loggamma\n",
      "18/32 Ajustando distribución: logistic\n",
      "19/32 Ajustando distribución: loguniform\n",
      "20/32 Ajustando distribución: moyal\n",
      "21/32 Ajustando distribución: nct\n",
      "22/32 Ajustando distribución: norm\n",
      "23/32 Ajustando distribución: norminvgauss\n",
      "24/32 Ajustando distribución: pearson3\n",
      "25/32 Ajustando distribución: powernorm\n",
      "26/32 Ajustando distribución: reciprocal\n",
      "27/32 Ajustando distribución: skewcauchy\n",
      "28/32 Ajustando distribución: skewnorm\n",
      "29/32 Ajustando distribución: t\n",
      "30/32 Ajustando distribución: truncnorm\n",
      "31/32 Ajustando distribución: truncweibull_min\n",
      "32/32 Ajustando distribución: tukeylambda\n"
     ]
    },
    {
     "data": {
      "text/html": [
       "<div>\n",
       "<style scoped>\n",
       "    .dataframe tbody tr th:only-of-type {\n",
       "        vertical-align: middle;\n",
       "    }\n",
       "\n",
       "    .dataframe tbody tr th {\n",
       "        vertical-align: top;\n",
       "    }\n",
       "\n",
       "    .dataframe thead th {\n",
       "        text-align: right;\n",
       "    }\n",
       "</style>\n",
       "<table border=\"1\" class=\"dataframe\">\n",
       "  <thead>\n",
       "    <tr style=\"text-align: right;\">\n",
       "      <th></th>\n",
       "      <th>distribucion</th>\n",
       "      <th>log_likelihood</th>\n",
       "      <th>aic</th>\n",
       "      <th>bic</th>\n",
       "      <th>n_parametros</th>\n",
       "      <th>parametros</th>\n",
       "    </tr>\n",
       "  </thead>\n",
       "  <tbody>\n",
       "    <tr>\n",
       "      <th>0</th>\n",
       "      <td>genhyperbolic</td>\n",
       "      <td>-4255.499528</td>\n",
       "      <td>8520.999056</td>\n",
       "      <td>8545.762699</td>\n",
       "      <td>5</td>\n",
       "      <td>{'p': 2.178894844386954, 'a': 3.38261432936648...</td>\n",
       "    </tr>\n",
       "    <tr>\n",
       "      <th>1</th>\n",
       "      <td>skewnorm</td>\n",
       "      <td>-4258.230248</td>\n",
       "      <td>8522.460496</td>\n",
       "      <td>8537.318682</td>\n",
       "      <td>3</td>\n",
       "      <td>{'a': 1.8783197456443594, 'loc': 15.6290136471...</td>\n",
       "    </tr>\n",
       "    <tr>\n",
       "      <th>2</th>\n",
       "      <td>genextreme</td>\n",
       "      <td>-4259.167655</td>\n",
       "      <td>8524.335310</td>\n",
       "      <td>8539.193496</td>\n",
       "      <td>3</td>\n",
       "      <td>{'c': 0.1688617056053091, 'loc': 24.1243973657...</td>\n",
       "    </tr>\n",
       "    <tr>\n",
       "      <th>3</th>\n",
       "      <td>pearson3</td>\n",
       "      <td>-4259.990502</td>\n",
       "      <td>8525.981005</td>\n",
       "      <td>8540.839191</td>\n",
       "      <td>3</td>\n",
       "      <td>{'skew': 0.4019614805073085, 'loc': 29.8811093...</td>\n",
       "    </tr>\n",
       "    <tr>\n",
       "      <th>4</th>\n",
       "      <td>genlogistic</td>\n",
       "      <td>-4260.446125</td>\n",
       "      <td>8526.892250</td>\n",
       "      <td>8541.750436</td>\n",
       "      <td>3</td>\n",
       "      <td>{'c': 2.1020783132234473, 'loc': 19.5164290409...</td>\n",
       "    </tr>\n",
       "    <tr>\n",
       "      <th>5</th>\n",
       "      <td>norminvgauss</td>\n",
       "      <td>-4259.642399</td>\n",
       "      <td>8527.284799</td>\n",
       "      <td>8547.095713</td>\n",
       "      <td>4</td>\n",
       "      <td>{'a': 7.729530010098099, 'b': 3.32439459887215...</td>\n",
       "    </tr>\n",
       "    <tr>\n",
       "      <th>6</th>\n",
       "      <td>johnsonsu</td>\n",
       "      <td>-4259.888922</td>\n",
       "      <td>8527.777843</td>\n",
       "      <td>8547.588758</td>\n",
       "      <td>4</td>\n",
       "      <td>{'a': -4.019376348703249, 'b': 4.8459642890292...</td>\n",
       "    </tr>\n",
       "    <tr>\n",
       "      <th>7</th>\n",
       "      <td>nct</td>\n",
       "      <td>-4259.946381</td>\n",
       "      <td>8527.892761</td>\n",
       "      <td>8547.703676</td>\n",
       "      <td>4</td>\n",
       "      <td>{'df': 35.84363636701261, 'nc': 6.686202787316...</td>\n",
       "    </tr>\n",
       "    <tr>\n",
       "      <th>8</th>\n",
       "      <td>exponnorm</td>\n",
       "      <td>-4261.427776</td>\n",
       "      <td>8528.855552</td>\n",
       "      <td>8543.713738</td>\n",
       "      <td>3</td>\n",
       "      <td>{'K': 0.8817258455290008, 'loc': 20.2381982831...</td>\n",
       "    </tr>\n",
       "    <tr>\n",
       "      <th>9</th>\n",
       "      <td>powernorm</td>\n",
       "      <td>-4261.705318</td>\n",
       "      <td>8529.410636</td>\n",
       "      <td>8544.268822</td>\n",
       "      <td>3</td>\n",
       "      <td>{'c': 0.16749073151042695, 'loc': 12.597536187...</td>\n",
       "    </tr>\n",
       "    <tr>\n",
       "      <th>10</th>\n",
       "      <td>laplace_asymmetric</td>\n",
       "      <td>-4266.224461</td>\n",
       "      <td>8538.448922</td>\n",
       "      <td>8553.307108</td>\n",
       "      <td>3</td>\n",
       "      <td>{'kappa': 0.7577271146306238, 'loc': 24.000009...</td>\n",
       "    </tr>\n",
       "    <tr>\n",
       "      <th>11</th>\n",
       "      <td>gennorm</td>\n",
       "      <td>-4271.508593</td>\n",
       "      <td>8549.017186</td>\n",
       "      <td>8563.875371</td>\n",
       "      <td>3</td>\n",
       "      <td>{'beta': 1.6440342162810946, 'loc': 29.2814038...</td>\n",
       "    </tr>\n",
       "    <tr>\n",
       "      <th>12</th>\n",
       "      <td>tukeylambda</td>\n",
       "      <td>-4272.794662</td>\n",
       "      <td>8551.589325</td>\n",
       "      <td>8566.447511</td>\n",
       "      <td>3</td>\n",
       "      <td>{'lam': 0.09033020399909956, 'loc': 29.5939361...</td>\n",
       "    </tr>\n",
       "    <tr>\n",
       "      <th>13</th>\n",
       "      <td>norm</td>\n",
       "      <td>-4274.610315</td>\n",
       "      <td>8553.220629</td>\n",
       "      <td>8563.126086</td>\n",
       "      <td>2</td>\n",
       "      <td>{'loc': 29.8811345124283, 'scale': 14.40660823...</td>\n",
       "    </tr>\n",
       "    <tr>\n",
       "      <th>14</th>\n",
       "      <td>t</td>\n",
       "      <td>-4273.934767</td>\n",
       "      <td>8553.869533</td>\n",
       "      <td>8568.727719</td>\n",
       "      <td>3</td>\n",
       "      <td>{'df': 25.912454864369767, 'loc': 29.673109385...</td>\n",
       "    </tr>\n",
       "    <tr>\n",
       "      <th>15</th>\n",
       "      <td>dweibull</td>\n",
       "      <td>-4274.164621</td>\n",
       "      <td>8554.329242</td>\n",
       "      <td>8569.187428</td>\n",
       "      <td>3</td>\n",
       "      <td>{'c': 1.181752724636993, 'loc': 28.61212210777...</td>\n",
       "    </tr>\n",
       "    <tr>\n",
       "      <th>16</th>\n",
       "      <td>logistic</td>\n",
       "      <td>-4275.640339</td>\n",
       "      <td>8555.280678</td>\n",
       "      <td>8565.186135</td>\n",
       "      <td>2</td>\n",
       "      <td>{'loc': 29.179796747148135, 'scale': 8.0957660...</td>\n",
       "    </tr>\n",
       "    <tr>\n",
       "      <th>17</th>\n",
       "      <td>crystalball</td>\n",
       "      <td>-4274.610315</td>\n",
       "      <td>8557.220629</td>\n",
       "      <td>8577.031544</td>\n",
       "      <td>4</td>\n",
       "      <td>{'beta': 1473.7035399044812, 'm': 1624.7355703...</td>\n",
       "    </tr>\n",
       "    <tr>\n",
       "      <th>18</th>\n",
       "      <td>loggamma</td>\n",
       "      <td>-4276.660455</td>\n",
       "      <td>8559.320911</td>\n",
       "      <td>8574.179097</td>\n",
       "      <td>3</td>\n",
       "      <td>{'c': 1286.3266477283769, 'loc': -3683.0902654...</td>\n",
       "    </tr>\n",
       "    <tr>\n",
       "      <th>19</th>\n",
       "      <td>hypsecant</td>\n",
       "      <td>-4279.544931</td>\n",
       "      <td>8563.089861</td>\n",
       "      <td>8572.995319</td>\n",
       "      <td>2</td>\n",
       "      <td>{'loc': 28.75367294588073, 'scale': 9.58663967...</td>\n",
       "    </tr>\n",
       "    <tr>\n",
       "      <th>20</th>\n",
       "      <td>dgamma</td>\n",
       "      <td>-4278.714007</td>\n",
       "      <td>8563.428014</td>\n",
       "      <td>8578.286200</td>\n",
       "      <td>3</td>\n",
       "      <td>{'a': 1.2653282738198643, 'loc': 27.5617298823...</td>\n",
       "    </tr>\n",
       "    <tr>\n",
       "      <th>21</th>\n",
       "      <td>gumbel_r</td>\n",
       "      <td>-4289.562496</td>\n",
       "      <td>8583.124992</td>\n",
       "      <td>8593.030450</td>\n",
       "      <td>2</td>\n",
       "      <td>{'loc': 22.938298103858777, 'scale': 13.053176...</td>\n",
       "    </tr>\n",
       "    <tr>\n",
       "      <th>22</th>\n",
       "      <td>laplace</td>\n",
       "      <td>-4294.064117</td>\n",
       "      <td>8592.128234</td>\n",
       "      <td>8602.033691</td>\n",
       "      <td>2</td>\n",
       "      <td>{'loc': 28.0, 'scale': 11.157106405353728}</td>\n",
       "    </tr>\n",
       "    <tr>\n",
       "      <th>23</th>\n",
       "      <td>truncnorm</td>\n",
       "      <td>-4314.854414</td>\n",
       "      <td>8637.708828</td>\n",
       "      <td>8657.519742</td>\n",
       "      <td>4</td>\n",
       "      <td>{'a': -0.8807294838689854, 'b': 4.351238676177...</td>\n",
       "    </tr>\n",
       "    <tr>\n",
       "      <th>24</th>\n",
       "      <td>moyal</td>\n",
       "      <td>-4337.197340</td>\n",
       "      <td>8678.394680</td>\n",
       "      <td>8688.300137</td>\n",
       "      <td>2</td>\n",
       "      <td>{'loc': 20.19445766034598, 'scale': 8.84675372...</td>\n",
       "    </tr>\n",
       "    <tr>\n",
       "      <th>25</th>\n",
       "      <td>skewcauchy</td>\n",
       "      <td>-4389.941171</td>\n",
       "      <td>8785.882342</td>\n",
       "      <td>8800.740528</td>\n",
       "      <td>3</td>\n",
       "      <td>{'a': 0.3193841499870784, 'loc': 23.3800548383...</td>\n",
       "    </tr>\n",
       "    <tr>\n",
       "      <th>26</th>\n",
       "      <td>cauchy</td>\n",
       "      <td>-4416.046473</td>\n",
       "      <td>8836.092946</td>\n",
       "      <td>8845.998403</td>\n",
       "      <td>2</td>\n",
       "      <td>{'loc': 27.388260256096803, 'scale': 7.9048198...</td>\n",
       "    </tr>\n",
       "    <tr>\n",
       "      <th>27</th>\n",
       "      <td>gumbel_l</td>\n",
       "      <td>-4417.847372</td>\n",
       "      <td>8839.694743</td>\n",
       "      <td>8849.600200</td>\n",
       "      <td>2</td>\n",
       "      <td>{'loc': 37.351013928351534, 'scale': 15.523808...</td>\n",
       "    </tr>\n",
       "    <tr>\n",
       "      <th>28</th>\n",
       "      <td>truncweibull_min</td>\n",
       "      <td>-4436.424271</td>\n",
       "      <td>8882.848542</td>\n",
       "      <td>8907.612185</td>\n",
       "      <td>5</td>\n",
       "      <td>{'c': 1.4285674939742956, 'a': 0.0019658680681...</td>\n",
       "    </tr>\n",
       "    <tr>\n",
       "      <th>29</th>\n",
       "      <td>kappa4</td>\n",
       "      <td>-4469.918484</td>\n",
       "      <td>8947.836969</td>\n",
       "      <td>8967.647883</td>\n",
       "      <td>4</td>\n",
       "      <td>{'h': 1.2052007613277853, 'k': 0.6399610875573...</td>\n",
       "    </tr>\n",
       "    <tr>\n",
       "      <th>30</th>\n",
       "      <td>loguniform</td>\n",
       "      <td>-5156.047280</td>\n",
       "      <td>10320.094560</td>\n",
       "      <td>10339.905475</td>\n",
       "      <td>4</td>\n",
       "      <td>{'a': 0.3173195636854731, 'b': 80.150637323379...</td>\n",
       "    </tr>\n",
       "    <tr>\n",
       "      <th>31</th>\n",
       "      <td>reciprocal</td>\n",
       "      <td>-5156.047280</td>\n",
       "      <td>10320.094560</td>\n",
       "      <td>10339.905475</td>\n",
       "      <td>4</td>\n",
       "      <td>{'a': 0.3173195636854731, 'b': 80.150637323379...</td>\n",
       "    </tr>\n",
       "  </tbody>\n",
       "</table>\n",
       "</div>"
      ],
      "text/plain": [
       "          distribucion  log_likelihood           aic           bic  \\\n",
       "0        genhyperbolic    -4255.499528   8520.999056   8545.762699   \n",
       "1             skewnorm    -4258.230248   8522.460496   8537.318682   \n",
       "2           genextreme    -4259.167655   8524.335310   8539.193496   \n",
       "3             pearson3    -4259.990502   8525.981005   8540.839191   \n",
       "4          genlogistic    -4260.446125   8526.892250   8541.750436   \n",
       "5         norminvgauss    -4259.642399   8527.284799   8547.095713   \n",
       "6            johnsonsu    -4259.888922   8527.777843   8547.588758   \n",
       "7                  nct    -4259.946381   8527.892761   8547.703676   \n",
       "8            exponnorm    -4261.427776   8528.855552   8543.713738   \n",
       "9            powernorm    -4261.705318   8529.410636   8544.268822   \n",
       "10  laplace_asymmetric    -4266.224461   8538.448922   8553.307108   \n",
       "11             gennorm    -4271.508593   8549.017186   8563.875371   \n",
       "12         tukeylambda    -4272.794662   8551.589325   8566.447511   \n",
       "13                norm    -4274.610315   8553.220629   8563.126086   \n",
       "14                   t    -4273.934767   8553.869533   8568.727719   \n",
       "15            dweibull    -4274.164621   8554.329242   8569.187428   \n",
       "16            logistic    -4275.640339   8555.280678   8565.186135   \n",
       "17         crystalball    -4274.610315   8557.220629   8577.031544   \n",
       "18            loggamma    -4276.660455   8559.320911   8574.179097   \n",
       "19           hypsecant    -4279.544931   8563.089861   8572.995319   \n",
       "20              dgamma    -4278.714007   8563.428014   8578.286200   \n",
       "21            gumbel_r    -4289.562496   8583.124992   8593.030450   \n",
       "22             laplace    -4294.064117   8592.128234   8602.033691   \n",
       "23           truncnorm    -4314.854414   8637.708828   8657.519742   \n",
       "24               moyal    -4337.197340   8678.394680   8688.300137   \n",
       "25          skewcauchy    -4389.941171   8785.882342   8800.740528   \n",
       "26              cauchy    -4416.046473   8836.092946   8845.998403   \n",
       "27            gumbel_l    -4417.847372   8839.694743   8849.600200   \n",
       "28    truncweibull_min    -4436.424271   8882.848542   8907.612185   \n",
       "29              kappa4    -4469.918484   8947.836969   8967.647883   \n",
       "30          loguniform    -5156.047280  10320.094560  10339.905475   \n",
       "31          reciprocal    -5156.047280  10320.094560  10339.905475   \n",
       "\n",
       "    n_parametros                                         parametros  \n",
       "0              5  {'p': 2.178894844386954, 'a': 3.38261432936648...  \n",
       "1              3  {'a': 1.8783197456443594, 'loc': 15.6290136471...  \n",
       "2              3  {'c': 0.1688617056053091, 'loc': 24.1243973657...  \n",
       "3              3  {'skew': 0.4019614805073085, 'loc': 29.8811093...  \n",
       "4              3  {'c': 2.1020783132234473, 'loc': 19.5164290409...  \n",
       "5              4  {'a': 7.729530010098099, 'b': 3.32439459887215...  \n",
       "6              4  {'a': -4.019376348703249, 'b': 4.8459642890292...  \n",
       "7              4  {'df': 35.84363636701261, 'nc': 6.686202787316...  \n",
       "8              3  {'K': 0.8817258455290008, 'loc': 20.2381982831...  \n",
       "9              3  {'c': 0.16749073151042695, 'loc': 12.597536187...  \n",
       "10             3  {'kappa': 0.7577271146306238, 'loc': 24.000009...  \n",
       "11             3  {'beta': 1.6440342162810946, 'loc': 29.2814038...  \n",
       "12             3  {'lam': 0.09033020399909956, 'loc': 29.5939361...  \n",
       "13             2  {'loc': 29.8811345124283, 'scale': 14.40660823...  \n",
       "14             3  {'df': 25.912454864369767, 'loc': 29.673109385...  \n",
       "15             3  {'c': 1.181752724636993, 'loc': 28.61212210777...  \n",
       "16             2  {'loc': 29.179796747148135, 'scale': 8.0957660...  \n",
       "17             4  {'beta': 1473.7035399044812, 'm': 1624.7355703...  \n",
       "18             3  {'c': 1286.3266477283769, 'loc': -3683.0902654...  \n",
       "19             2  {'loc': 28.75367294588073, 'scale': 9.58663967...  \n",
       "20             3  {'a': 1.2653282738198643, 'loc': 27.5617298823...  \n",
       "21             2  {'loc': 22.938298103858777, 'scale': 13.053176...  \n",
       "22             2         {'loc': 28.0, 'scale': 11.157106405353728}  \n",
       "23             4  {'a': -0.8807294838689854, 'b': 4.351238676177...  \n",
       "24             2  {'loc': 20.19445766034598, 'scale': 8.84675372...  \n",
       "25             3  {'a': 0.3193841499870784, 'loc': 23.3800548383...  \n",
       "26             2  {'loc': 27.388260256096803, 'scale': 7.9048198...  \n",
       "27             2  {'loc': 37.351013928351534, 'scale': 15.523808...  \n",
       "28             5  {'c': 1.4285674939742956, 'a': 0.0019658680681...  \n",
       "29             4  {'h': 1.2052007613277853, 'k': 0.6399610875573...  \n",
       "30             4  {'a': 0.3173195636854731, 'b': 80.150637323379...  \n",
       "31             4  {'a': 0.3173195636854731, 'b': 80.150637323379...  "
      ]
     },
     "execution_count": 16,
     "metadata": {},
     "output_type": "execute_result"
    }
   ],
   "source": [
    "\n",
    "# Ajuste y comparación de distribuciones\n",
    "\n",
    "resultados = comparar_distribuciones(\n",
    "                x=x,\n",
    "                familia='realall',\n",
    "                ordenar='aic',\n",
    "                verbose=False\n",
    "            )\n",
    "resultados"
   ]
  },
  {
   "cell_type": "code",
   "execution_count": 17,
   "metadata": {},
   "outputs": [],
   "source": [
    "def plot_distribucion(x, nombre_distribucion, ax=None):\n",
    "    \n",
    "\n",
    "    distribucion = getattr(stats, nombre_distribucion)\n",
    "\n",
    "    parametros = distribucion.fit(data=x)\n",
    "\n",
    "    nombre_parametros = [p for p in inspect.signature(distribucion._pdf).parameters \\\n",
    "                         if not p=='x'] + [\"loc\",\"scale\"]\n",
    "    parametros_dict = dict(zip(nombre_parametros, parametros))\n",
    "\n",
    "    log_likelihood = distribucion.logpdf(x, *parametros).sum()\n",
    "\n",
    "    aic = -2 * log_likelihood + 2 * len(parametros)\n",
    "    bic = -2 * log_likelihood + np.log(x.shape[0]) * len(parametros)\n",
    "\n",
    "    x_hat = np.linspace(min(x), max(x), num=100)\n",
    "    y_hat = distribucion.pdf(x_hat, *parametros)\n",
    "    \n",
    "    if ax is None:\n",
    "        fig, ax = plt.subplots(figsize=(7,4))\n",
    "        \n",
    "    ax.plot(x_hat, y_hat, linewidth=2, label=distribucion.name)\n",
    "    ax.hist(x=x, density=True, bins=30, color=\"#3182bd\", alpha=0.5);\n",
    "    ax.plot(x, np.full_like(x, -0.01), '|k', markeredgewidth=1)\n",
    "    ax.set_title('Ajuste distribución')\n",
    "    ax.set_xlabel('x')\n",
    "    ax.set_ylabel('Densidad de probabilidad')\n",
    "    ax.legend();\n",
    "\n",
    "    print('---------------------')\n",
    "    print('Resultados del ajuste')\n",
    "    print('---------------------')\n",
    "    print(f\"Distribución:   {distribucion.name}\")\n",
    "    print(f\"Dominio:        {[distribucion.a, distribucion.b]}\")\n",
    "    print(f\"Parámetros:     {parametros_dict}\")\n",
    "    print(f\"Log likelihood: {log_likelihood}\")\n",
    "    print(f\"AIC:            {aic}\")\n",
    "    print(f\"BIC:            {bic}\")\n",
    "    \n",
    "    return ax\n",
    "\n",
    "\n",
    "def plot_multiple_distribuciones(x, nombre_distribuciones, ax=None):\n",
    "    '''\n",
    "    Esta función superpone las curvas de densidad de varias distribuciones\n",
    "    con el histograma de los datos.\n",
    "    \n",
    "    Parameters\n",
    "    ----------\n",
    "    x : array_like\n",
    "        datos con los que ajustar la distribución.\n",
    "        \n",
    "    nombre_distribuciones : list\n",
    "        lista con nombres de distribuciones disponibles en `scipy.stats`.\n",
    "        \n",
    "    Returns\n",
    "    -------\n",
    "    resultados: matplotlib.ax\n",
    "        gráfico creado\n",
    "        \n",
    "    Raises\n",
    "    ------\n",
    "        \n",
    "    Notes\n",
    "    -----\n",
    "    '''\n",
    "    \n",
    "    if ax is None:\n",
    "        fig, ax = plt.subplots(figsize=(7,4))\n",
    "        \n",
    "    ax.hist(x=x, density=True, bins=30, color=\"#3182bd\", alpha=0.5)\n",
    "    ax.plot(x, np.full_like(x, -0.01), '|k', markeredgewidth=1)\n",
    "    ax.set_title('Ajuste distribuciones')\n",
    "    ax.set_xlabel('x')\n",
    "    ax.set_ylabel('Densidad de probabilidad')\n",
    "    \n",
    "    for nombre in nombre_distribuciones:\n",
    "        \n",
    "        distribucion = getattr(stats, nombre)\n",
    "\n",
    "        parametros = distribucion.fit(data=x)\n",
    "\n",
    "        nombre_parametros = [p for p in inspect.signature(distribucion._pdf).parameters \\\n",
    "                             if not p=='x'] + [\"loc\",\"scale\"]\n",
    "        parametros_dict = dict(zip(nombre_parametros, parametros))\n",
    "\n",
    "        log_likelihood = distribucion.logpdf(x, *parametros).sum()\n",
    "\n",
    "        aic = -2 * log_likelihood + 2 * len(parametros)\n",
    "        bic = -2 * log_likelihood + np.log(x.shape[0]) * len(parametros)\n",
    "\n",
    "        x_hat = np.linspace(min(x), max(x), num=100)\n",
    "        y_hat = distribucion.pdf(x_hat, *parametros)\n",
    "        ax.plot(x_hat, y_hat, linewidth=2, label=distribucion.name)\n",
    "    \n",
    "    ax.legend();\n",
    "    \n",
    "    return ax\n",
    "            "
   ]
  },
  {
   "cell_type": "code",
   "execution_count": 18,
   "metadata": {},
   "outputs": [
    {
     "name": "stdout",
     "output_type": "stream",
     "text": [
      "---------------------\n",
      "Resultados del ajuste\n",
      "---------------------\n",
      "Distribución:   genhyperbolic\n",
      "Dominio:        [-inf, inf]\n",
      "Parámetros:     {'p': 2.178894844386954, 'a': 3.382614329366483e-05, 'b': 8.497762324390796e-06, 'loc': 22.379689820230496, 'scale': 0.00021716220589309616}\n",
      "Log likelihood: -4255.499527850544\n",
      "AIC:            8520.999055701088\n",
      "BIC:            8545.762698924213\n"
     ]
    },
    {
     "data": {
      "text/plain": [
       "<Axes: title={'center': 'Ajuste distribución'}, xlabel='x', ylabel='Densidad de probabilidad'>"
      ]
     },
     "execution_count": 18,
     "metadata": {},
     "output_type": "execute_result"
    },
    {
     "data": {
      "image/png": "[encoded data removed]",
      "text/plain": [
       "<Figure size 800x500 with 1 Axes>"
      ]
     },
     "metadata": {},
     "output_type": "display_data"
    }
   ],
   "source": [
    "#Vamos a comprobar y representar cuál es la mejor distribución de acuerdo con la Cantidad de Información de Akaike\n",
    "fig, ax = plt.subplots(figsize=(8,5))\n",
    "\n",
    "plot_distribucion(\n",
    "    x=x,\n",
    "    nombre_distribucion=resultados['distribucion'][0],\n",
    "    ax=ax\n",
    ")"
   ]
  },
  {
   "cell_type": "code",
   "execution_count": 20,
   "metadata": {},
   "outputs": [
    {
     "data": {
      "text/plain": [
       "<Axes: title={'center': 'Ajuste distribuciones'}, xlabel='x', ylabel='Densidad de probabilidad'>"
      ]
     },
     "execution_count": 20,
     "metadata": {},
     "output_type": "execute_result"
    },
    {
     "data": {
      "image/png": "[encoded data removed]",
      "text/plain": [
       "<Figure size 800x500 with 1 Axes>"
      ]
     },
     "metadata": {},
     "output_type": "display_data"
    }
   ],
   "source": [
    "#y vamos a comprobar cómo queda el ajuste de las cinco mejores...\n",
    "fig, ax = plt.subplots(figsize=(8,5))\n",
    "\n",
    "plot_multiple_distribuciones(\n",
    "    x=x,\n",
    "    nombre_distribuciones=resultados['distribucion'][:5],\n",
    "    ax=ax\n",
    ")"
   ]
  },
  {
   "cell_type": "markdown",
   "metadata": {},
   "source": [
    "Como podemos ver la distribución a la que mejor se ajustan nuestros datos, de la edad de la muestra del titánic es la distribución genhyperbolic. En caso de que tuviesemos que hacer estudios relativos a la edad procuraríamos usar esta distribución de forma aproximada."
   ]
  },
  {
   "cell_type": "markdown",
   "metadata": {},
   "source": [
    "### Contraste de Homogeneidad de Willcoxon y de Mann-Whitney"
   ]
  },
  {
   "cell_type": "code",
   "execution_count": 11,
   "metadata": {},
   "outputs": [],
   "source": [
    "import pandas as pd\n",
    "import matplotlib.pyplot as plt\n",
    "import seaborn as sns\n",
    "from scipy import stats\n",
    "from scipy.stats import mannwhitneyu\n",
    "from statsmodels.stats.diagnostic import normal_ad\n",
    "from scipy.stats import shapiro"
   ]
  },
  {
   "cell_type": "code",
   "execution_count": 12,
   "metadata": {},
   "outputs": [],
   "source": [
    "import numpy as np\n",
    "import pandas as pd\n",
    "import matplotlib.pyplot as plt\n",
    "import seaborn as sns\n",
    "from scipy import stats\n",
    "from scipy.stats import wilcoxon\n",
    "from statsmodels.stats.anova import AnovaRM"
   ]
  },
  {
   "cell_type": "markdown",
   "metadata": {},
   "source": [
    "En esta sección voy a comparar si hay homogeneidad entre el sexo de los pasajeros y el precio del tiquet que pagaron. Para ello voy a usar el contraste de homogeneidad de willcoxon y de Mann-Whitney."
   ]
  },
  {
   "cell_type": "code",
   "execution_count": 5,
   "metadata": {},
   "outputs": [],
   "source": [
    "titanic_df_no_na = titanic_df.dropna(subset=['sex', 'fare','age'])"
   ]
  },
  {
   "cell_type": "code",
   "execution_count": null,
   "metadata": {},
   "outputs": [],
   "source": [
    "#guardo en un grupo a los hombres con lo que pagaron y en el otro las mujeres\n",
    "m_fare = titanic_df_no_na[titanic_df_no_na.sex == \"male\"]\n",
    "f_fare = titanic_df_no_na[titanic_df_no_na.sex == \"female\"]"
   ]
  },
  {
   "cell_type": "code",
   "execution_count": null,
   "metadata": {},
   "outputs": [],
   "source": [
    "#compruebo que los tamaños sean iguales y si no lo son recorto para que tengan el mismo tamañp y poder aplicar willcoxon\n"
   ]
  },
  {
   "cell_type": "code",
   "execution_count": null,
   "metadata": {},
   "outputs": [
    {
     "name": "stdout",
     "output_type": "stream",
     "text": [
      "p-value: 1.0\n"
     ]
    }
   ],
   "source": [
    "stat, p = mannwhitneyu(f_fare.fare, m_fare.fare, alternative='less')\n",
    "print('p-value:', p)"
   ]
  },
  {
   "cell_type": "markdown",
   "metadata": {},
   "source": [
    "Hago un test de Wilcoxon para ver si hay diferencias significativas entre el precio del tiquet y el sexo de los pasajeros."
   ]
  },
  {
   "cell_type": "code",
   "execution_count": null,
   "metadata": {},
   "outputs": [],
   "source": [
    "#hago el test para 400 hombres y 400 mujeres, para que las muestras sean iguales\n",
    "m_400 = m_fare[:400]\n",
    "f_400 = f_fare[:400]"
   ]
  },
  {
   "cell_type": "code",
   "execution_count": null,
   "metadata": {},
   "outputs": [],
   "source": [
    "f_400 = f_400.reset_index(drop=True)\n",
    "m_400 = m_400.reset_index(drop=True)"
   ]
  },
  {
   "cell_type": "code",
   "execution_count": null,
   "metadata": {},
   "outputs": [
    {
     "name": "stdout",
     "output_type": "stream",
     "text": [
      "Statistics=32521.500, p=0.041\n",
      "Rechazamos H0: Hay diferencias significativas\n"
     ]
    }
   ],
   "source": [
    "stat, p = wilcoxon(m_400.fare, f_400.fare, alternative='two-sided')\n",
    "print('Statistics=%.3f, p=%.3f' % (stat, p))\n",
    "# interpretación\n",
    "alpha = 0.05\n",
    "if p > alpha:\n",
    "\tprint('No rechazamos H0: No hay diferencias significativas')\n",
    "else:\n",
    "\tprint('Rechazamos H0: Hay diferencias significativas')"
   ]
  },
  {
   "cell_type": "markdown",
   "metadata": {},
   "source": [
    "Podemos decir después de los dos tests que hay diferencias significativas entre lo que pagaron hombres y mujeres, y además podemos decir que las mujeres pagaron más"
   ]
  },
  {
   "cell_type": "code",
   "execution_count": null,
   "metadata": {},
   "outputs": [
    {
     "data": {
      "image/png": "[encoded data removed]",
      "text/plain": [
       "<Figure size 800x500 with 1 Axes>"
      ]
     },
     "metadata": {},
     "output_type": "display_data"
    }
   ],
   "source": [
    "#hago graficas de lo que pagaron hombres y mujeres y contrastar de forma gráfica que realmente la mujeres pagaron más:\n",
    "fig, ax = plt.subplots(figsize=(8,5))\n",
    "sns.histplot(m_fare.fare, color='blue', alpha=0.5, ax=ax)\n",
    "sns.histplot(f_fare.fare, color='red', alpha=0.5, ax=ax)\n",
    "plt.legend(['Hombres', 'Mujeres'])\n",
    "plt.title('Comparación de lo que pagaron hombres y mujeres')\n",
    "plt.xlabel('Precio')\n",
    "plt.ylabel('Frecuencia')\n",
    "plt.show()\n"
   ]
  },
  {
   "cell_type": "markdown",
   "metadata": {},
   "source": [
    "### Contraste de homogeneidad de mas de dos muestras"
   ]
  },
  {
   "cell_type": "markdown",
   "metadata": {},
   "source": [
    "Contrasto si la edad en las tres clases del titánic proceden de la misma población. Mi H0 será que si."
   ]
  },
  {
   "cell_type": "code",
   "execution_count": 6,
   "metadata": {},
   "outputs": [],
   "source": [
    "\n",
    "from scipy.stats import kruskal"
   ]
  },
  {
   "cell_type": "code",
   "execution_count": 7,
   "metadata": {},
   "outputs": [],
   "source": [
    "#separo el dataset en tres grupos dados por la clase a la que pertenecen\n",
    "class1 = titanic_df_no_na[titanic_df_no_na.pclass == 1]\n",
    "class2 = titanic_df_no_na[titanic_df_no_na.pclass == 2]\n",
    "class3 = titanic_df_no_na[titanic_df_no_na.pclass == 3]\n"
   ]
  },
  {
   "cell_type": "code",
   "execution_count": 8,
   "metadata": {},
   "outputs": [
    {
     "name": "stdout",
     "output_type": "stream",
     "text": [
      "173.07483768708096 2.613825063985474e-38\n"
     ]
    }
   ],
   "source": [
    "stat, p = kruskal(class1.age, class2.age, class3.age)\n",
    "print(stat,p)"
   ]
  },
  {
   "cell_type": "code",
   "execution_count": 9,
   "metadata": {},
   "outputs": [
    {
     "data": {
      "text/plain": [
       "0.016666666666666666"
      ]
     },
     "execution_count": 9,
     "metadata": {},
     "output_type": "execute_result"
    }
   ],
   "source": [
    "#Aplicamos la corrección de Bonferroni\n",
    "# Bonferroni: 3 comparaciones\n",
    "alpha_2=0.05/3                          #Obtenemos el valor de significación que utilizaremos para las comparaciones\n",
    "alpha_2"
   ]
  },
  {
   "cell_type": "code",
   "execution_count": 13,
   "metadata": {},
   "outputs": [
    {
     "name": "stdout",
     "output_type": "stream",
     "text": [
      "p-value: 8.078340942588266e-14\n",
      "Rechazamos H0: Hay diferencias significativas entre los grupos 1 y 2.\n"
     ]
    }
   ],
   "source": [
    "stat, p = mannwhitneyu(class1.age, class2.age,alternative='two-sided')\n",
    "print('p-value:', p)\n",
    "if p > alpha_2:\n",
    "\tprint('No rechazamos H0: No hay diferencias significativas entre los grupos 1 y 2.')\n",
    "else:\n",
    "\tprint('Rechazamos H0: Hay diferencias significativas entre los grupos 1 y 2.')"
   ]
  },
  {
   "cell_type": "code",
   "execution_count": 15,
   "metadata": {},
   "outputs": [
    {
     "name": "stdout",
     "output_type": "stream",
     "text": [
      "p-value: 4.7417379898130856e-07\n",
      "Rechazamos H0: Hay diferencias significativas entre los grupos 2 y 3.\n"
     ]
    }
   ],
   "source": [
    "stat, p = mannwhitneyu(class2.age, class3.age,alternative='two-sided')\n",
    "print('p-value:', p)\n",
    "if p > alpha_2:\n",
    "\tprint('No rechazamos H0: No hay diferencias significativas entre los grupos 2 y 3.')\n",
    "else:\n",
    "\tprint('Rechazamos H0: Hay diferencias significativas entre los grupos 2 y 3.')"
   ]
  },
  {
   "cell_type": "code",
   "execution_count": 16,
   "metadata": {},
   "outputs": [
    {
     "name": "stdout",
     "output_type": "stream",
     "text": [
      "p-value: 2.773204452582719e-38\n",
      "Rechazamos H0: Hay diferencias significativas entre los grupos 1 y 3.\n"
     ]
    }
   ],
   "source": [
    "stat, p = mannwhitneyu(class1.age, class3.age,alternative='two-sided')\n",
    "print('p-value:', p)\n",
    "if p > alpha_2:\n",
    "\tprint('No rechazamos H0: No hay diferencias significativas entre los grupos 1 y 3.')\n",
    "else:\n",
    "\tprint('Rechazamos H0: Hay diferencias significativas entre los grupos 1 y 3.')"
   ]
  },
  {
   "cell_type": "markdown",
   "metadata": {},
   "source": [
    "Vemos que las diferecias son significativas en edad entre las tres clases con el test de Kruskal-Wallis. Y analizando las clases dos a dos con el test de Mann-Whitney vemos que todas ellas son diferentes. "
   ]
  },
  {
   "cell_type": "code",
   "execution_count": null,
   "metadata": {},
   "outputs": [
    {
     "data": {
      "text/plain": [
       "39.15991795774648"
      ]
     },
     "execution_count": 13,
     "metadata": {},
     "output_type": "execute_result"
    }
   ],
   "source": [
    "#muestro la media de edad de cada clase\n",
    "(class1.age).mean()\n"
   ]
  },
  {
   "cell_type": "code",
   "execution_count": null,
   "metadata": {},
   "outputs": [
    {
     "data": {
      "text/plain": [
       "29.506704980842912"
      ]
     },
     "execution_count": 14,
     "metadata": {},
     "output_type": "execute_result"
    }
   ],
   "source": [
    "(class2.age).mean()"
   ]
  },
  {
   "cell_type": "code",
   "execution_count": null,
   "metadata": {},
   "outputs": [
    {
     "data": {
      "text/plain": [
       "24.745"
      ]
     },
     "execution_count": 15,
     "metadata": {},
     "output_type": "execute_result"
    }
   ],
   "source": [
    "class3.age.mean()"
   ]
  },
  {
   "cell_type": "code",
   "execution_count": 17,
   "metadata": {},
   "outputs": [
    {
     "data": {
      "image/png": "[encoded data removed]",
      "text/plain": [
       "<Figure size 800x500 with 1 Axes>"
      ]
     },
     "metadata": {},
     "output_type": "display_data"
    }
   ],
   "source": [
    "#Grafico las distribuciones de edades\n",
    "\n",
    "fig, ax = plt.subplots(figsize=(8,5))\n",
    "sns.histplot(class1.age, color='blue', alpha=0.5, ax=ax)\n",
    "sns.histplot(class2.age, color='red', alpha=0.5, ax=ax)\n",
    "sns.histplot(class3.age, color='green', alpha=0.5, ax=ax)\n",
    "plt.legend(['Primera Clase', 'Segunda Clase', 'Tercera Clase'])\n",
    "plt.title('Comparación de edades por clase')\n",
    "plt.xlabel('Edad')\n",
    "plt.ylabel('Frecuencia')\n",
    "plt.show()"
   ]
  },
  {
   "cell_type": "markdown",
   "metadata": {},
   "source": [
    "Podemos hacer el test de Kruskal Wallis para comparar el precio pagado entre los pasajero de distintas clases, pero claramente nos va a dar distinto, ya que ese el motivo principal de diferencia entre clases."
   ]
  },
  {
   "cell_type": "code",
   "execution_count": null,
   "metadata": {},
   "outputs": [
    {
     "name": "stdout",
     "output_type": "stream",
     "text": [
      "602.4393587194828 1.5203914315752115e-131\n"
     ]
    }
   ],
   "source": [
    "stat, p = kruskal(class1.fare, class2.fare, class3.fare)\n",
    "print(stat,p)"
   ]
  },
  {
   "cell_type": "markdown",
   "metadata": {},
   "source": []
  },
  {
   "cell_type": "markdown",
   "metadata": {},
   "source": [
    "### Modelos y Series Temporales"
   ]
  },
  {
   "cell_type": "markdown",
   "metadata": {},
   "source": [
    "Modelo Logit"
   ]
  },
  {
   "cell_type": "code",
   "execution_count": 22,
   "metadata": {},
   "outputs": [],
   "source": [
    "from sklearn.model_selection import train_test_split\n",
    "from sklearn.preprocessing import LabelEncoder\n",
    "from sklearn.linear_model import LogisticRegression"
   ]
  },
  {
   "cell_type": "code",
   "execution_count": 23,
   "metadata": {},
   "outputs": [
    {
     "data": {
      "text/html": [
       "<div>\n",
       "<style scoped>\n",
       "    .dataframe tbody tr th:only-of-type {\n",
       "        vertical-align: middle;\n",
       "    }\n",
       "\n",
       "    .dataframe tbody tr th {\n",
       "        vertical-align: top;\n",
       "    }\n",
       "\n",
       "    .dataframe thead th {\n",
       "        text-align: right;\n",
       "    }\n",
       "</style>\n",
       "<table border=\"1\" class=\"dataframe\">\n",
       "  <thead>\n",
       "    <tr style=\"text-align: right;\">\n",
       "      <th></th>\n",
       "      <th>pclass</th>\n",
       "      <th>survived</th>\n",
       "      <th>name</th>\n",
       "      <th>sex</th>\n",
       "      <th>age</th>\n",
       "      <th>sibsp</th>\n",
       "      <th>parch</th>\n",
       "      <th>ticket</th>\n",
       "      <th>fare</th>\n",
       "      <th>cabin</th>\n",
       "      <th>embarked</th>\n",
       "      <th>boat</th>\n",
       "      <th>body</th>\n",
       "      <th>home.dest</th>\n",
       "      <th>sex_num</th>\n",
       "    </tr>\n",
       "  </thead>\n",
       "  <tbody>\n",
       "    <tr>\n",
       "      <th>0</th>\n",
       "      <td>1.0</td>\n",
       "      <td>1.0</td>\n",
       "      <td>Allen, Miss. Elisabeth Walton</td>\n",
       "      <td>female</td>\n",
       "      <td>29.0000</td>\n",
       "      <td>0.0</td>\n",
       "      <td>0.0</td>\n",
       "      <td>24160</td>\n",
       "      <td>211.3375</td>\n",
       "      <td>B5</td>\n",
       "      <td>S</td>\n",
       "      <td>2</td>\n",
       "      <td>NaN</td>\n",
       "      <td>St Louis, MO</td>\n",
       "      <td>0</td>\n",
       "    </tr>\n",
       "    <tr>\n",
       "      <th>1</th>\n",
       "      <td>1.0</td>\n",
       "      <td>1.0</td>\n",
       "      <td>Allison, Master. Hudson Trevor</td>\n",
       "      <td>male</td>\n",
       "      <td>0.9167</td>\n",
       "      <td>1.0</td>\n",
       "      <td>2.0</td>\n",
       "      <td>113781</td>\n",
       "      <td>151.5500</td>\n",
       "      <td>C22 C26</td>\n",
       "      <td>S</td>\n",
       "      <td>11</td>\n",
       "      <td>NaN</td>\n",
       "      <td>Montreal, PQ / Chesterville, ON</td>\n",
       "      <td>1</td>\n",
       "    </tr>\n",
       "    <tr>\n",
       "      <th>2</th>\n",
       "      <td>1.0</td>\n",
       "      <td>0.0</td>\n",
       "      <td>Allison, Miss. Helen Loraine</td>\n",
       "      <td>female</td>\n",
       "      <td>2.0000</td>\n",
       "      <td>1.0</td>\n",
       "      <td>2.0</td>\n",
       "      <td>113781</td>\n",
       "      <td>151.5500</td>\n",
       "      <td>C22 C26</td>\n",
       "      <td>S</td>\n",
       "      <td>NaN</td>\n",
       "      <td>NaN</td>\n",
       "      <td>Montreal, PQ / Chesterville, ON</td>\n",
       "      <td>0</td>\n",
       "    </tr>\n",
       "    <tr>\n",
       "      <th>3</th>\n",
       "      <td>1.0</td>\n",
       "      <td>0.0</td>\n",
       "      <td>Allison, Mr. Hudson Joshua Creighton</td>\n",
       "      <td>male</td>\n",
       "      <td>30.0000</td>\n",
       "      <td>1.0</td>\n",
       "      <td>2.0</td>\n",
       "      <td>113781</td>\n",
       "      <td>151.5500</td>\n",
       "      <td>C22 C26</td>\n",
       "      <td>S</td>\n",
       "      <td>NaN</td>\n",
       "      <td>135.0</td>\n",
       "      <td>Montreal, PQ / Chesterville, ON</td>\n",
       "      <td>1</td>\n",
       "    </tr>\n",
       "    <tr>\n",
       "      <th>4</th>\n",
       "      <td>1.0</td>\n",
       "      <td>0.0</td>\n",
       "      <td>Allison, Mrs. Hudson J C (Bessie Waldo Daniels)</td>\n",
       "      <td>female</td>\n",
       "      <td>25.0000</td>\n",
       "      <td>1.0</td>\n",
       "      <td>2.0</td>\n",
       "      <td>113781</td>\n",
       "      <td>151.5500</td>\n",
       "      <td>C22 C26</td>\n",
       "      <td>S</td>\n",
       "      <td>NaN</td>\n",
       "      <td>NaN</td>\n",
       "      <td>Montreal, PQ / Chesterville, ON</td>\n",
       "      <td>0</td>\n",
       "    </tr>\n",
       "  </tbody>\n",
       "</table>\n",
       "</div>"
      ],
      "text/plain": [
       "   pclass  survived                                             name     sex  \\\n",
       "0     1.0       1.0                    Allen, Miss. Elisabeth Walton  female   \n",
       "1     1.0       1.0                   Allison, Master. Hudson Trevor    male   \n",
       "2     1.0       0.0                     Allison, Miss. Helen Loraine  female   \n",
       "3     1.0       0.0             Allison, Mr. Hudson Joshua Creighton    male   \n",
       "4     1.0       0.0  Allison, Mrs. Hudson J C (Bessie Waldo Daniels)  female   \n",
       "\n",
       "       age  sibsp  parch  ticket      fare    cabin embarked boat   body  \\\n",
       "0  29.0000    0.0    0.0   24160  211.3375       B5        S    2    NaN   \n",
       "1   0.9167    1.0    2.0  113781  151.5500  C22 C26        S   11    NaN   \n",
       "2   2.0000    1.0    2.0  113781  151.5500  C22 C26        S  NaN    NaN   \n",
       "3  30.0000    1.0    2.0  113781  151.5500  C22 C26        S  NaN  135.0   \n",
       "4  25.0000    1.0    2.0  113781  151.5500  C22 C26        S  NaN    NaN   \n",
       "\n",
       "                         home.dest  sex_num  \n",
       "0                     St Louis, MO        0  \n",
       "1  Montreal, PQ / Chesterville, ON        1  \n",
       "2  Montreal, PQ / Chesterville, ON        0  \n",
       "3  Montreal, PQ / Chesterville, ON        1  \n",
       "4  Montreal, PQ / Chesterville, ON        0  "
      ]
     },
     "execution_count": 23,
     "metadata": {},
     "output_type": "execute_result"
    }
   ],
   "source": [
    "#Primero paso el campo de sexo en el dataset a numérico para poder usarlo en las prediciones\n",
    "\n",
    "label_encoder = LabelEncoder()\n",
    "datos_titanic['sex_num'] = label_encoder.fit_transform(datos_titanic['sex'])\n",
    "\n",
    "datos_titanic.head()"
   ]
  },
  {
   "cell_type": "code",
   "execution_count": 24,
   "metadata": {},
   "outputs": [
    {
     "data": {
      "text/html": [
       "<div>\n",
       "<style scoped>\n",
       "    .dataframe tbody tr th:only-of-type {\n",
       "        vertical-align: middle;\n",
       "    }\n",
       "\n",
       "    .dataframe tbody tr th {\n",
       "        vertical-align: top;\n",
       "    }\n",
       "\n",
       "    .dataframe thead th {\n",
       "        text-align: right;\n",
       "    }\n",
       "</style>\n",
       "<table border=\"1\" class=\"dataframe\">\n",
       "  <thead>\n",
       "    <tr style=\"text-align: right;\">\n",
       "      <th></th>\n",
       "      <th>pclass</th>\n",
       "      <th>survived</th>\n",
       "      <th>age</th>\n",
       "      <th>sibsp</th>\n",
       "      <th>parch</th>\n",
       "      <th>fare</th>\n",
       "      <th>body</th>\n",
       "      <th>sex_num</th>\n",
       "    </tr>\n",
       "  </thead>\n",
       "  <tbody>\n",
       "    <tr>\n",
       "      <th>count</th>\n",
       "      <td>1045.000000</td>\n",
       "      <td>1045.000000</td>\n",
       "      <td>1045.000000</td>\n",
       "      <td>1045.000000</td>\n",
       "      <td>1045.000000</td>\n",
       "      <td>1045.000000</td>\n",
       "      <td>119.000000</td>\n",
       "      <td>1045.000000</td>\n",
       "    </tr>\n",
       "    <tr>\n",
       "      <th>mean</th>\n",
       "      <td>2.206699</td>\n",
       "      <td>0.408612</td>\n",
       "      <td>29.851834</td>\n",
       "      <td>0.503349</td>\n",
       "      <td>0.421053</td>\n",
       "      <td>36.686080</td>\n",
       "      <td>160.033613</td>\n",
       "      <td>0.628708</td>\n",
       "    </tr>\n",
       "    <tr>\n",
       "      <th>std</th>\n",
       "      <td>0.841542</td>\n",
       "      <td>0.491813</td>\n",
       "      <td>14.389201</td>\n",
       "      <td>0.912471</td>\n",
       "      <td>0.840052</td>\n",
       "      <td>55.732533</td>\n",
       "      <td>98.082975</td>\n",
       "      <td>0.483382</td>\n",
       "    </tr>\n",
       "    <tr>\n",
       "      <th>min</th>\n",
       "      <td>1.000000</td>\n",
       "      <td>0.000000</td>\n",
       "      <td>0.166700</td>\n",
       "      <td>0.000000</td>\n",
       "      <td>0.000000</td>\n",
       "      <td>0.000000</td>\n",
       "      <td>1.000000</td>\n",
       "      <td>0.000000</td>\n",
       "    </tr>\n",
       "    <tr>\n",
       "      <th>25%</th>\n",
       "      <td>1.000000</td>\n",
       "      <td>0.000000</td>\n",
       "      <td>21.000000</td>\n",
       "      <td>0.000000</td>\n",
       "      <td>0.000000</td>\n",
       "      <td>8.050000</td>\n",
       "      <td>71.000000</td>\n",
       "      <td>0.000000</td>\n",
       "    </tr>\n",
       "    <tr>\n",
       "      <th>50%</th>\n",
       "      <td>2.000000</td>\n",
       "      <td>0.000000</td>\n",
       "      <td>28.000000</td>\n",
       "      <td>0.000000</td>\n",
       "      <td>0.000000</td>\n",
       "      <td>15.750000</td>\n",
       "      <td>155.000000</td>\n",
       "      <td>1.000000</td>\n",
       "    </tr>\n",
       "    <tr>\n",
       "      <th>75%</th>\n",
       "      <td>3.000000</td>\n",
       "      <td>1.000000</td>\n",
       "      <td>39.000000</td>\n",
       "      <td>1.000000</td>\n",
       "      <td>1.000000</td>\n",
       "      <td>35.500000</td>\n",
       "      <td>255.500000</td>\n",
       "      <td>1.000000</td>\n",
       "    </tr>\n",
       "    <tr>\n",
       "      <th>max</th>\n",
       "      <td>3.000000</td>\n",
       "      <td>1.000000</td>\n",
       "      <td>80.000000</td>\n",
       "      <td>8.000000</td>\n",
       "      <td>6.000000</td>\n",
       "      <td>512.329200</td>\n",
       "      <td>328.000000</td>\n",
       "      <td>1.000000</td>\n",
       "    </tr>\n",
       "  </tbody>\n",
       "</table>\n",
       "</div>"
      ],
      "text/plain": [
       "            pclass     survived          age        sibsp        parch  \\\n",
       "count  1045.000000  1045.000000  1045.000000  1045.000000  1045.000000   \n",
       "mean      2.206699     0.408612    29.851834     0.503349     0.421053   \n",
       "std       0.841542     0.491813    14.389201     0.912471     0.840052   \n",
       "min       1.000000     0.000000     0.166700     0.000000     0.000000   \n",
       "25%       1.000000     0.000000    21.000000     0.000000     0.000000   \n",
       "50%       2.000000     0.000000    28.000000     0.000000     0.000000   \n",
       "75%       3.000000     1.000000    39.000000     1.000000     1.000000   \n",
       "max       3.000000     1.000000    80.000000     8.000000     6.000000   \n",
       "\n",
       "              fare        body      sex_num  \n",
       "count  1045.000000  119.000000  1045.000000  \n",
       "mean     36.686080  160.033613     0.628708  \n",
       "std      55.732533   98.082975     0.483382  \n",
       "min       0.000000    1.000000     0.000000  \n",
       "25%       8.050000   71.000000     0.000000  \n",
       "50%      15.750000  155.000000     1.000000  \n",
       "75%      35.500000  255.500000     1.000000  \n",
       "max     512.329200  328.000000     1.000000  "
      ]
     },
     "execution_count": 24,
     "metadata": {},
     "output_type": "execute_result"
    }
   ],
   "source": [
    "datos_titanic.describe()"
   ]
  },
  {
   "cell_type": "code",
   "execution_count": 25,
   "metadata": {},
   "outputs": [],
   "source": [
    "# De forma muy simple voy eliminar las filas de las variables que voy a usar para \n",
    "#entrenar el modelo que continene un NaN\n",
    "\n",
    "\n",
    "datos_titanic = datos_titanic.dropna(subset=['age'])\n",
    "datos_titanic = datos_titanic.dropna(subset=['pclass'])\n",
    "datos_titanic = datos_titanic.dropna(subset=['sibsp'])\n",
    "datos_titanic = datos_titanic.dropna(subset=['parch'])\n",
    "datos_titanic = datos_titanic.dropna(subset=['fare'])\n",
    "\n",
    "\n"
   ]
  },
  {
   "cell_type": "code",
   "execution_count": 26,
   "metadata": {},
   "outputs": [
    {
     "data": {
      "text/html": [
       "<div>\n",
       "<style scoped>\n",
       "    .dataframe tbody tr th:only-of-type {\n",
       "        vertical-align: middle;\n",
       "    }\n",
       "\n",
       "    .dataframe tbody tr th {\n",
       "        vertical-align: top;\n",
       "    }\n",
       "\n",
       "    .dataframe thead th {\n",
       "        text-align: right;\n",
       "    }\n",
       "</style>\n",
       "<table border=\"1\" class=\"dataframe\">\n",
       "  <thead>\n",
       "    <tr style=\"text-align: right;\">\n",
       "      <th></th>\n",
       "      <th>pclass</th>\n",
       "      <th>survived</th>\n",
       "      <th>age</th>\n",
       "      <th>sibsp</th>\n",
       "      <th>parch</th>\n",
       "      <th>fare</th>\n",
       "      <th>body</th>\n",
       "      <th>sex_num</th>\n",
       "    </tr>\n",
       "  </thead>\n",
       "  <tbody>\n",
       "    <tr>\n",
       "      <th>count</th>\n",
       "      <td>1045.000000</td>\n",
       "      <td>1045.000000</td>\n",
       "      <td>1045.000000</td>\n",
       "      <td>1045.000000</td>\n",
       "      <td>1045.000000</td>\n",
       "      <td>1045.000000</td>\n",
       "      <td>119.000000</td>\n",
       "      <td>1045.000000</td>\n",
       "    </tr>\n",
       "    <tr>\n",
       "      <th>mean</th>\n",
       "      <td>2.206699</td>\n",
       "      <td>0.408612</td>\n",
       "      <td>29.851834</td>\n",
       "      <td>0.503349</td>\n",
       "      <td>0.421053</td>\n",
       "      <td>36.686080</td>\n",
       "      <td>160.033613</td>\n",
       "      <td>0.628708</td>\n",
       "    </tr>\n",
       "    <tr>\n",
       "      <th>std</th>\n",
       "      <td>0.841542</td>\n",
       "      <td>0.491813</td>\n",
       "      <td>14.389201</td>\n",
       "      <td>0.912471</td>\n",
       "      <td>0.840052</td>\n",
       "      <td>55.732533</td>\n",
       "      <td>98.082975</td>\n",
       "      <td>0.483382</td>\n",
       "    </tr>\n",
       "    <tr>\n",
       "      <th>min</th>\n",
       "      <td>1.000000</td>\n",
       "      <td>0.000000</td>\n",
       "      <td>0.166700</td>\n",
       "      <td>0.000000</td>\n",
       "      <td>0.000000</td>\n",
       "      <td>0.000000</td>\n",
       "      <td>1.000000</td>\n",
       "      <td>0.000000</td>\n",
       "    </tr>\n",
       "    <tr>\n",
       "      <th>25%</th>\n",
       "      <td>1.000000</td>\n",
       "      <td>0.000000</td>\n",
       "      <td>21.000000</td>\n",
       "      <td>0.000000</td>\n",
       "      <td>0.000000</td>\n",
       "      <td>8.050000</td>\n",
       "      <td>71.000000</td>\n",
       "      <td>0.000000</td>\n",
       "    </tr>\n",
       "    <tr>\n",
       "      <th>50%</th>\n",
       "      <td>2.000000</td>\n",
       "      <td>0.000000</td>\n",
       "      <td>28.000000</td>\n",
       "      <td>0.000000</td>\n",
       "      <td>0.000000</td>\n",
       "      <td>15.750000</td>\n",
       "      <td>155.000000</td>\n",
       "      <td>1.000000</td>\n",
       "    </tr>\n",
       "    <tr>\n",
       "      <th>75%</th>\n",
       "      <td>3.000000</td>\n",
       "      <td>1.000000</td>\n",
       "      <td>39.000000</td>\n",
       "      <td>1.000000</td>\n",
       "      <td>1.000000</td>\n",
       "      <td>35.500000</td>\n",
       "      <td>255.500000</td>\n",
       "      <td>1.000000</td>\n",
       "    </tr>\n",
       "    <tr>\n",
       "      <th>max</th>\n",
       "      <td>3.000000</td>\n",
       "      <td>1.000000</td>\n",
       "      <td>80.000000</td>\n",
       "      <td>8.000000</td>\n",
       "      <td>6.000000</td>\n",
       "      <td>512.329200</td>\n",
       "      <td>328.000000</td>\n",
       "      <td>1.000000</td>\n",
       "    </tr>\n",
       "  </tbody>\n",
       "</table>\n",
       "</div>"
      ],
      "text/plain": [
       "            pclass     survived          age        sibsp        parch  \\\n",
       "count  1045.000000  1045.000000  1045.000000  1045.000000  1045.000000   \n",
       "mean      2.206699     0.408612    29.851834     0.503349     0.421053   \n",
       "std       0.841542     0.491813    14.389201     0.912471     0.840052   \n",
       "min       1.000000     0.000000     0.166700     0.000000     0.000000   \n",
       "25%       1.000000     0.000000    21.000000     0.000000     0.000000   \n",
       "50%       2.000000     0.000000    28.000000     0.000000     0.000000   \n",
       "75%       3.000000     1.000000    39.000000     1.000000     1.000000   \n",
       "max       3.000000     1.000000    80.000000     8.000000     6.000000   \n",
       "\n",
       "              fare        body      sex_num  \n",
       "count  1045.000000  119.000000  1045.000000  \n",
       "mean     36.686080  160.033613     0.628708  \n",
       "std      55.732533   98.082975     0.483382  \n",
       "min       0.000000    1.000000     0.000000  \n",
       "25%       8.050000   71.000000     0.000000  \n",
       "50%      15.750000  155.000000     1.000000  \n",
       "75%      35.500000  255.500000     1.000000  \n",
       "max     512.329200  328.000000     1.000000  "
      ]
     },
     "execution_count": 26,
     "metadata": {},
     "output_type": "execute_result"
    }
   ],
   "source": [
    "datos_titanic.describe()"
   ]
  },
  {
   "cell_type": "code",
   "execution_count": 28,
   "metadata": {},
   "outputs": [
    {
     "data": {
      "text/html": [
       "<div>\n",
       "<style scoped>\n",
       "    .dataframe tbody tr th:only-of-type {\n",
       "        vertical-align: middle;\n",
       "    }\n",
       "\n",
       "    .dataframe tbody tr th {\n",
       "        vertical-align: top;\n",
       "    }\n",
       "\n",
       "    .dataframe thead th {\n",
       "        text-align: right;\n",
       "    }\n",
       "</style>\n",
       "<table border=\"1\" class=\"dataframe\">\n",
       "  <thead>\n",
       "    <tr style=\"text-align: right;\">\n",
       "      <th></th>\n",
       "      <th>pclass</th>\n",
       "      <th>age</th>\n",
       "      <th>sex_num</th>\n",
       "      <th>sibsp</th>\n",
       "      <th>parch</th>\n",
       "      <th>fare</th>\n",
       "    </tr>\n",
       "  </thead>\n",
       "  <tbody>\n",
       "    <tr>\n",
       "      <th>0</th>\n",
       "      <td>1.0</td>\n",
       "      <td>29.0000</td>\n",
       "      <td>0</td>\n",
       "      <td>0.0</td>\n",
       "      <td>0.0</td>\n",
       "      <td>211.3375</td>\n",
       "    </tr>\n",
       "    <tr>\n",
       "      <th>1</th>\n",
       "      <td>1.0</td>\n",
       "      <td>0.9167</td>\n",
       "      <td>1</td>\n",
       "      <td>1.0</td>\n",
       "      <td>2.0</td>\n",
       "      <td>151.5500</td>\n",
       "    </tr>\n",
       "    <tr>\n",
       "      <th>2</th>\n",
       "      <td>1.0</td>\n",
       "      <td>2.0000</td>\n",
       "      <td>0</td>\n",
       "      <td>1.0</td>\n",
       "      <td>2.0</td>\n",
       "      <td>151.5500</td>\n",
       "    </tr>\n",
       "    <tr>\n",
       "      <th>3</th>\n",
       "      <td>1.0</td>\n",
       "      <td>30.0000</td>\n",
       "      <td>1</td>\n",
       "      <td>1.0</td>\n",
       "      <td>2.0</td>\n",
       "      <td>151.5500</td>\n",
       "    </tr>\n",
       "    <tr>\n",
       "      <th>4</th>\n",
       "      <td>1.0</td>\n",
       "      <td>25.0000</td>\n",
       "      <td>0</td>\n",
       "      <td>1.0</td>\n",
       "      <td>2.0</td>\n",
       "      <td>151.5500</td>\n",
       "    </tr>\n",
       "  </tbody>\n",
       "</table>\n",
       "</div>"
      ],
      "text/plain": [
       "   pclass      age  sex_num  sibsp  parch      fare\n",
       "0     1.0  29.0000        0    0.0    0.0  211.3375\n",
       "1     1.0   0.9167        1    1.0    2.0  151.5500\n",
       "2     1.0   2.0000        0    1.0    2.0  151.5500\n",
       "3     1.0  30.0000        1    1.0    2.0  151.5500\n",
       "4     1.0  25.0000        0    1.0    2.0  151.5500"
      ]
     },
     "execution_count": 28,
     "metadata": {},
     "output_type": "execute_result"
    }
   ],
   "source": [
    "\n",
    "# Seleccionamos las características y la variable objetivo\n",
    "features = ['pclass', 'age', 'sex_num', 'sibsp', 'parch', 'fare']\n",
    "X = datos_titanic[features]\n",
    "y = datos_titanic['survived']\n",
    "\n",
    "\n",
    "X.head()"
   ]
  },
  {
   "cell_type": "code",
   "execution_count": 29,
   "metadata": {},
   "outputs": [
    {
     "data": {
      "text/plain": [
       "0    1.0\n",
       "1    1.0\n",
       "2    0.0\n",
       "3    0.0\n",
       "4    0.0\n",
       "Name: survived, dtype: float64"
      ]
     },
     "execution_count": 29,
     "metadata": {},
     "output_type": "execute_result"
    }
   ],
   "source": [
    "y.head()"
   ]
  },
  {
   "cell_type": "code",
   "execution_count": 30,
   "metadata": {},
   "outputs": [
    {
     "data": {
      "text/html": [
       "<style>#sk-container-id-1 {color: black;}#sk-container-id-1 pre{padding: 0;}#sk-container-id-1 div.sk-toggleable {background-color: white;}#sk-container-id-1 label.sk-toggleable__label {cursor: pointer;display: block;width: 100%;margin-bottom: 0;padding: 0.3em;box-sizing: border-box;text-align: center;}#sk-container-id-1 label.sk-toggleable__label-arrow:before {content: \"▸\";float: left;margin-right: 0.25em;color: #696969;}#sk-container-id-1 label.sk-toggleable__label-arrow:hover:before {color: black;}#sk-container-id-1 div.sk-estimator:hover label.sk-toggleable__label-arrow:before {color: black;}#sk-container-id-1 div.sk-toggleable__content {max-height: 0;max-width: 0;overflow: hidden;text-align: left;background-color: #f0f8ff;}#sk-container-id-1 div.sk-toggleable__content pre {margin: 0.2em;color: black;border-radius: 0.25em;background-color: #f0f8ff;}#sk-container-id-1 input.sk-toggleable__control:checked~div.sk-toggleable__content {max-height: 200px;max-width: 100%;overflow: auto;}#sk-container-id-1 input.sk-toggleable__control:checked~label.sk-toggleable__label-arrow:before {content: \"▾\";}#sk-container-id-1 div.sk-estimator input.sk-toggleable__control:checked~label.sk-toggleable__label {background-color: #d4ebff;}#sk-container-id-1 div.sk-label input.sk-toggleable__control:checked~label.sk-toggleable__label {background-color: #d4ebff;}#sk-container-id-1 input.sk-hidden--visually {border: 0;clip: rect(1px 1px 1px 1px);clip: rect(1px, 1px, 1px, 1px);height: 1px;margin: -1px;overflow: hidden;padding: 0;position: absolute;width: 1px;}#sk-container-id-1 div.sk-estimator {font-family: monospace;background-color: #f0f8ff;border: 1px dotted black;border-radius: 0.25em;box-sizing: border-box;margin-bottom: 0.5em;}#sk-container-id-1 div.sk-estimator:hover {background-color: #d4ebff;}#sk-container-id-1 div.sk-parallel-item::after {content: \"\";width: 100%;border-bottom: 1px solid gray;flex-grow: 1;}#sk-container-id-1 div.sk-label:hover label.sk-toggleable__label {background-color: #d4ebff;}#sk-container-id-1 div.sk-serial::before {content: \"\";position: absolute;border-left: 1px solid gray;box-sizing: border-box;top: 0;bottom: 0;left: 50%;z-index: 0;}#sk-container-id-1 div.sk-serial {display: flex;flex-direction: column;align-items: center;background-color: white;padding-right: 0.2em;padding-left: 0.2em;position: relative;}#sk-container-id-1 div.sk-item {position: relative;z-index: 1;}#sk-container-id-1 div.sk-parallel {display: flex;align-items: stretch;justify-content: center;background-color: white;position: relative;}#sk-container-id-1 div.sk-item::before, #sk-container-id-1 div.sk-parallel-item::before {content: \"\";position: absolute;border-left: 1px solid gray;box-sizing: border-box;top: 0;bottom: 0;left: 50%;z-index: -1;}#sk-container-id-1 div.sk-parallel-item {display: flex;flex-direction: column;z-index: 1;position: relative;background-color: white;}#sk-container-id-1 div.sk-parallel-item:first-child::after {align-self: flex-end;width: 50%;}#sk-container-id-1 div.sk-parallel-item:last-child::after {align-self: flex-start;width: 50%;}#sk-container-id-1 div.sk-parallel-item:only-child::after {width: 0;}#sk-container-id-1 div.sk-dashed-wrapped {border: 1px dashed gray;margin: 0 0.4em 0.5em 0.4em;box-sizing: border-box;padding-bottom: 0.4em;background-color: white;}#sk-container-id-1 div.sk-label label {font-family: monospace;font-weight: bold;display: inline-block;line-height: 1.2em;}#sk-container-id-1 div.sk-label-container {text-align: center;}#sk-container-id-1 div.sk-container {/* jupyter's `normalize.less` sets `[hidden] { display: none; }` but bootstrap.min.css set `[hidden] { display: none !important; }` so we also need the `!important` here to be able to override the default hidden behavior on the sphinx rendered scikit-learn.org. See: https://github.com/scikit-learn/scikit-learn/issues/21755 */display: inline-block !important;position: relative;}#sk-container-id-1 div.sk-text-repr-fallback {display: none;}</style><div id=\"sk-container-id-1\" class=\"sk-top-container\"><div class=\"sk-text-repr-fallback\"><pre>LogisticRegression()</pre><b>In a Jupyter environment, please rerun this cell to show the HTML representation or trust the notebook. <br />On GitHub, the HTML representation is unable to render, please try loading this page with nbviewer.org.</b></div><div class=\"sk-container\" hidden><div class=\"sk-item\"><div class=\"sk-estimator sk-toggleable\"><input class=\"sk-toggleable__control sk-hidden--visually\" id=\"sk-estimator-id-1\" type=\"checkbox\" checked><label for=\"sk-estimator-id-1\" class=\"sk-toggleable__label sk-toggleable__label-arrow\">LogisticRegression</label><div class=\"sk-toggleable__content\"><pre>LogisticRegression()</pre></div></div></div></div></div>"
      ],
      "text/plain": [
       "LogisticRegression()"
      ]
     },
     "execution_count": 30,
     "metadata": {},
     "output_type": "execute_result"
    }
   ],
   "source": [
    "# Instanciamos el modelo de regresión logística\n",
    "model = LogisticRegression()\n",
    "\n",
    "# Ajustar el modelo a los datos de entrenamiento\n",
    "model.fit(X, y)"
   ]
  },
  {
   "cell_type": "code",
   "execution_count": 32,
   "metadata": {},
   "outputs": [
    {
     "name": "stdout",
     "output_type": "stream",
     "text": [
      "pclass:    \t Weight=-1.0688115380285343,\t Standard deviation=-0.8990191448588883\n",
      "age:    \t Weight=-0.037684503934559965,\t Standard deviation=-0.5419903889938679\n",
      "sex_num:    \t Weight=-2.4680958516026656,\t Standard deviation=-1.1924612609884937\n",
      "sibsp:    \t Weight=-0.3443743827383492,\t Standard deviation=-0.31408132456931076\n",
      "parch:    \t Weight=0.05816679674481951,\t Standard deviation=0.04883972351129413\n",
      "fare:    \t Weight=0.0017909418131150149,\t Standard deviation=0.09976595483188586\n"
     ]
    }
   ],
   "source": [
    "# Obtenemos los pesos de las características\n",
    "feature_weights = model.coef_[0]\n",
    "\n",
    "# Obtenemos la desviación estándar de los coeficientes\n",
    "std_dev = np.std(X, 0) * feature_weights\n",
    "\n",
    "# Mostramos los pesos de las características junto con la desviación estándar\n",
    "for feature, weight, std in zip(features, feature_weights, std_dev):\n",
    "    print(f\"{feature}:    \\t Weight={weight},\\t Standard deviation={std}\")"
   ]
  },
  {
   "cell_type": "markdown",
   "metadata": {},
   "source": [
    "A primera vista podemos intuir que las variables que más influencia tienen en si un pasajero se salvaba o no son el sexo, la clase y si tenía familiares a bordo."
   ]
  },
  {
   "cell_type": "code",
   "execution_count": 33,
   "metadata": {},
   "outputs": [
    {
     "name": "stdout",
     "output_type": "stream",
     "text": [
      "pclass:    \t z_value=1.1888640460446445\n",
      "age:    \t z_value=0.069529837982028\n",
      "sex_num:    \t z_value=2.0697492927835084\n",
      "sibsp:    \t z_value=1.096449727504742\n",
      "parch:    \t z_value=1.1909730965485197\n",
      "fare:    \t z_value=0.01795143259173838\n"
     ]
    }
   ],
   "source": [
    "#Calculamos su valor z\n",
    "z = feature_weights / std_dev\n",
    "\n",
    "#Mostramos el valor z\n",
    "for feature, z_value in zip(features, z):\n",
    "    print(f\"{feature}:    \\t z_value={z_value}\")\n",
    "    "
   ]
  },
  {
   "cell_type": "code",
   "execution_count": 34,
   "metadata": {},
   "outputs": [
    {
     "name": "stdout",
     "output_type": "stream",
     "text": [
      "pclass:    \t p_value=0.23449317033225014\n",
      "age:    \t p_value=0.9445678828426143\n",
      "sex_num:    \t p_value=0.038475828092960684\n",
      "sibsp:    \t p_value=0.2728820122477069\n",
      "parch:    \t p_value=0.23366414662817192\n",
      "fare:    \t p_value=0.9856775983365986\n"
     ]
    }
   ],
   "source": [
    "#sacamos el p-valor\n",
    "from scipy.stats import norm\n",
    "\n",
    "p_values = 2 * (1 - norm.cdf(np.abs(z)))\n",
    "\n",
    "#Mostramos el p-valor\n",
    "for feature, p_value in zip(features, p_values):\n",
    "    print(f\"{feature}:    \\t p_value={p_value}\")\n"
   ]
  },
  {
   "cell_type": "markdown",
   "metadata": {},
   "source": [
    "sabiendo ahora el p-valor, podemos decir que la variable que más influye en si un pasajero se salvaba o no es el sexo, seguido de la clase y si tenía familiares a bordo."
   ]
  },
  {
   "cell_type": "markdown",
   "metadata": {},
   "source": [
    "Pero la única relevante con un p-valor menor a 0.05 es el sexo. Y las que se pdrían descartar son la edad y lo que pagó por el tiquet."
   ]
  },
  {
   "cell_type": "code",
   "execution_count": 44,
   "metadata": {},
   "outputs": [
    {
     "name": "stdout",
     "output_type": "stream",
     "text": [
      "La probabilidad de que sobreviva es de 1.39%\n"
     ]
    },
    {
     "name": "stderr",
     "output_type": "stream",
     "text": [
      "c:\\Users\\joanb\\Anaconda3\\Lib\\site-packages\\sklearn\\base.py:464: UserWarning: X does not have valid feature names, but LogisticRegression was fitted with feature names\n",
      "  warnings.warn(\n"
     ]
    }
   ],
   "source": [
    "#calculamos ahora la probabilidad de que un pasajero sobreviva, considerando que \n",
    "#es un hombre de 30 años de segunda clase, sin hermanos, sin padres, y que pagó 100 libras\n",
    "\n",
    "probabilidad = model.predict_proba([[1, 16, 3, 0, 0, 100]])[0][1]\n",
    "\n",
    "print(f\"La probabilidad de que sobreviva es de {probabilidad * 100:.2f}%\")"
   ]
  },
  {
   "cell_type": "code",
   "execution_count": null,
   "metadata": {},
   "outputs": [
    {
     "name": "stdout",
     "output_type": "stream",
     "text": [
      "pclass:    \t Weight=-0.8355968636008496,\t Standard deviation=-0.7028531701172088\n",
      "sex_num:    \t Weight=-2.475069597885323,\t Standard deviation=-1.1958306286249374\n",
      "sibsp:    \t Weight=-0.2208515736115964,\t Standard deviation=-0.20142425874299036\n",
      "parch:    \t Weight=0.10456600841570661,\t Standard deviation=0.08779879975353133\n"
     ]
    }
   ],
   "source": [
    "#Eliminamos las variables que no son significativas\n",
    "\n",
    "features_filtered = ['pclass', 'sex_num', 'sibsp', 'parch']\n",
    "X_filtered = datos_titanic[features_filtered]\n",
    "\n",
    "\n",
    "model_filtered = LogisticRegression()\n",
    "model_filtered.fit(X_filtered, y)\n",
    "\n",
    "# Obtenemos los pesos de las características\n",
    "\n",
    "feature_weights_filtered = model_filtered.coef_[0]\n",
    "std_dev_filtered = np.std(X_filtered, 0) * feature_weights_filtered\n",
    "\n",
    "# Mostramos los pesos de las características junto con la desviación estándar\n",
    "\n",
    "for feature, weight, std in zip(features_filtered, feature_weights_filtered, std_dev_filtered):\n",
    "    print(f\"{feature}:    \\t Weight={weight},\\t Standard deviation={std}\")\n",
    "\n"
   ]
  },
  {
   "cell_type": "code",
   "execution_count": null,
   "metadata": {},
   "outputs": [
    {
     "name": "stdout",
     "output_type": "stream",
     "text": [
      "pclass:    \t p_value=0.23449317033225014\n",
      "sex_num:    \t p_value=0.038475828092960684\n",
      "sibsp:    \t p_value=0.2728820122477069\n",
      "parch:    \t p_value=0.23366414662817192\n"
     ]
    }
   ],
   "source": [
    "#sacamos el nuevo p-valor\n",
    "\n",
    "z_filtered = feature_weights_filtered / std_dev_filtered\n",
    "\n",
    "p_values_filtered = 2 * (1 - norm.cdf(np.abs(z_filtered)))\n",
    "\n",
    "#mostramos el p-valor\n",
    "\n",
    "for feature, p_value in zip(features_filtered, p_values_filtered):\n",
    "    print(f\"{feature}:    \\t p_value={p_value}\")\n",
    "                    "
   ]
  },
  {
   "cell_type": "code",
   "execution_count": null,
   "metadata": {},
   "outputs": [
    {
     "name": "stdout",
     "output_type": "stream",
     "text": [
      "La probabilidad de que sobreviva es de 5.76%\n"
     ]
    },
    {
     "name": "stderr",
     "output_type": "stream",
     "text": [
      "c:\\Users\\joanb\\Anaconda3\\Lib\\site-packages\\sklearn\\base.py:464: UserWarning: X does not have valid feature names, but LogisticRegression was fitted with feature names\n",
      "  warnings.warn(\n"
     ]
    }
   ],
   "source": [
    "#calculamos ahora la probabilidad de que un pasajero sobreviva, considerando que\n",
    "#es un hombre de segunda clase, sin hermanos, sin padres\n",
    "\n",
    "probabilidad_filtered = model_filtered.predict_proba([[1, 2, 0, 0]])[0][1]\n",
    "\n",
    "print(f\"La probabilidad de que sobreviva es de {probabilidad_filtered * 100:.2f}%\")"
   ]
  },
  {
   "cell_type": "markdown",
   "metadata": {},
   "source": [
    "Personalmente creo que el primer modelo hace mejores predicciones. Porque aunque las características del tíquet y la edad no fuesen muy influyentes, al final se ajusta mejor y retorna predicciones que tienen más sentido. Ya que creo que decir que tener hijos, pareja o familiares en general no afecta mucho como ocurre en el segundo modelo, en el que ocurre que estar casado es negativo es claramente erróneo."
   ]
  },
  {
   "cell_type": "markdown",
   "metadata": {},
   "source": [
    "-----------------------\n",
    "\n",
    "Hasta aquí el código de la práctica. Las conclusiones y análisis en detalle en el documento pdf"
   ]
  }
 ],
 "metadata": {
  "kernelspec": {
   "display_name": "base",
   "language": "python",
   "name": "python3"
  },
  "language_info": {
   "codemirror_mode": {
    "name": "ipython",
    "version": 3
   },
   "file_extension": ".py",
   "mimetype": "text/x-python",
   "name": "python",
   "nbconvert_exporter": "python",
   "pygments_lexer": "ipython3",
   "version": "3.11.4"
  }
 },
 "nbformat": 4,
 "nbformat_minor": 2
}
